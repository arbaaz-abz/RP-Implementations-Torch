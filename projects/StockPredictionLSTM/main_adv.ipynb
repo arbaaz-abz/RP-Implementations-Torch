{
 "cells": [
  {
   "cell_type": "code",
   "execution_count": 1,
   "id": "790c1846-9cb7-4f47-85ce-84129455cc74",
   "metadata": {
    "tags": []
   },
   "outputs": [],
   "source": [
    "import pandas as pd\n",
    "import numpy as np\n",
    "import matplotlib.pyplot as plt\n",
    "import torch\n",
    "import torch.nn as nn\n",
    "from datetime import datetime \n",
    "from torch.utils.data import Dataset\n",
    "from torch.utils.data import DataLoader\n",
    "from copy import deepcopy as dc\n",
    "from sklearn.preprocessing import MinMaxScaler\n",
    "scaler = MinMaxScaler()\n",
    "\n",
    "device = \"cuda:0\" if torch.cuda.is_available() else \"cpu\""
   ]
  },
  {
   "cell_type": "code",
   "execution_count": 2,
   "id": "803e7bba-34c8-4f95-9a3e-20e73c77e2f9",
   "metadata": {
    "tags": []
   },
   "outputs": [],
   "source": [
    "df = pd.read_csv(\"AMZN.csv\")"
   ]
  },
  {
   "cell_type": "code",
   "execution_count": 3,
   "id": "d05cb56e-c09c-4658-8a32-b0b06a14974a",
   "metadata": {
    "tags": []
   },
   "outputs": [
    {
     "data": {
      "text/html": [
       "<div>\n",
       "<style scoped>\n",
       "    .dataframe tbody tr th:only-of-type {\n",
       "        vertical-align: middle;\n",
       "    }\n",
       "\n",
       "    .dataframe tbody tr th {\n",
       "        vertical-align: top;\n",
       "    }\n",
       "\n",
       "    .dataframe thead th {\n",
       "        text-align: right;\n",
       "    }\n",
       "</style>\n",
       "<table border=\"1\" class=\"dataframe\">\n",
       "  <thead>\n",
       "    <tr style=\"text-align: right;\">\n",
       "      <th></th>\n",
       "      <th>Date</th>\n",
       "      <th>Open</th>\n",
       "      <th>High</th>\n",
       "      <th>Low</th>\n",
       "      <th>Close</th>\n",
       "      <th>Adj Close</th>\n",
       "      <th>Volume</th>\n",
       "    </tr>\n",
       "  </thead>\n",
       "  <tbody>\n",
       "    <tr>\n",
       "      <th>0</th>\n",
       "      <td>1997-05-15</td>\n",
       "      <td>0.121875</td>\n",
       "      <td>0.125000</td>\n",
       "      <td>0.096354</td>\n",
       "      <td>0.097917</td>\n",
       "      <td>0.097917</td>\n",
       "      <td>1443120000</td>\n",
       "    </tr>\n",
       "    <tr>\n",
       "      <th>1</th>\n",
       "      <td>1997-05-16</td>\n",
       "      <td>0.098438</td>\n",
       "      <td>0.098958</td>\n",
       "      <td>0.085417</td>\n",
       "      <td>0.086458</td>\n",
       "      <td>0.086458</td>\n",
       "      <td>294000000</td>\n",
       "    </tr>\n",
       "    <tr>\n",
       "      <th>2</th>\n",
       "      <td>1997-05-19</td>\n",
       "      <td>0.088021</td>\n",
       "      <td>0.088542</td>\n",
       "      <td>0.081250</td>\n",
       "      <td>0.085417</td>\n",
       "      <td>0.085417</td>\n",
       "      <td>122136000</td>\n",
       "    </tr>\n",
       "    <tr>\n",
       "      <th>3</th>\n",
       "      <td>1997-05-20</td>\n",
       "      <td>0.086458</td>\n",
       "      <td>0.087500</td>\n",
       "      <td>0.081771</td>\n",
       "      <td>0.081771</td>\n",
       "      <td>0.081771</td>\n",
       "      <td>109344000</td>\n",
       "    </tr>\n",
       "    <tr>\n",
       "      <th>4</th>\n",
       "      <td>1997-05-21</td>\n",
       "      <td>0.081771</td>\n",
       "      <td>0.082292</td>\n",
       "      <td>0.068750</td>\n",
       "      <td>0.071354</td>\n",
       "      <td>0.071354</td>\n",
       "      <td>377064000</td>\n",
       "    </tr>\n",
       "  </tbody>\n",
       "</table>\n",
       "</div>"
      ],
      "text/plain": [
       "         Date      Open      High       Low     Close  Adj Close      Volume\n",
       "0  1997-05-15  0.121875  0.125000  0.096354  0.097917   0.097917  1443120000\n",
       "1  1997-05-16  0.098438  0.098958  0.085417  0.086458   0.086458   294000000\n",
       "2  1997-05-19  0.088021  0.088542  0.081250  0.085417   0.085417   122136000\n",
       "3  1997-05-20  0.086458  0.087500  0.081771  0.081771   0.081771   109344000\n",
       "4  1997-05-21  0.081771  0.082292  0.068750  0.071354   0.071354   377064000"
      ]
     },
     "execution_count": 3,
     "metadata": {},
     "output_type": "execute_result"
    }
   ],
   "source": [
    "df.head()"
   ]
  },
  {
   "cell_type": "code",
   "execution_count": 4,
   "id": "f367228c-5239-4ce6-97fc-569cda15a21a",
   "metadata": {
    "tags": []
   },
   "outputs": [
    {
     "name": "stdout",
     "output_type": "stream",
     "text": [
      "<class 'pandas.core.frame.DataFrame'>\n",
      "RangeIndex: 6516 entries, 0 to 6515\n",
      "Data columns (total 7 columns):\n",
      " #   Column     Non-Null Count  Dtype  \n",
      "---  ------     --------------  -----  \n",
      " 0   Date       6516 non-null   object \n",
      " 1   Open       6516 non-null   float64\n",
      " 2   High       6516 non-null   float64\n",
      " 3   Low        6516 non-null   float64\n",
      " 4   Close      6516 non-null   float64\n",
      " 5   Adj Close  6516 non-null   float64\n",
      " 6   Volume     6516 non-null   int64  \n",
      "dtypes: float64(5), int64(1), object(1)\n",
      "memory usage: 356.5+ KB\n"
     ]
    }
   ],
   "source": [
    "df.info()"
   ]
  },
  {
   "cell_type": "code",
   "execution_count": 5,
   "id": "c92d86ce-2076-47cd-8771-7cf6943cb2dd",
   "metadata": {
    "tags": []
   },
   "outputs": [
    {
     "data": {
      "text/html": [
       "<div>\n",
       "<style scoped>\n",
       "    .dataframe tbody tr th:only-of-type {\n",
       "        vertical-align: middle;\n",
       "    }\n",
       "\n",
       "    .dataframe tbody tr th {\n",
       "        vertical-align: top;\n",
       "    }\n",
       "\n",
       "    .dataframe thead th {\n",
       "        text-align: right;\n",
       "    }\n",
       "</style>\n",
       "<table border=\"1\" class=\"dataframe\">\n",
       "  <thead>\n",
       "    <tr style=\"text-align: right;\">\n",
       "      <th></th>\n",
       "      <th>Open</th>\n",
       "      <th>High</th>\n",
       "      <th>Low</th>\n",
       "      <th>Close</th>\n",
       "      <th>Adj Close</th>\n",
       "      <th>Volume</th>\n",
       "    </tr>\n",
       "  </thead>\n",
       "  <tbody>\n",
       "    <tr>\n",
       "      <th>count</th>\n",
       "      <td>6516.000000</td>\n",
       "      <td>6516.000000</td>\n",
       "      <td>6516.000000</td>\n",
       "      <td>6516.000000</td>\n",
       "      <td>6516.000000</td>\n",
       "      <td>6.516000e+03</td>\n",
       "    </tr>\n",
       "    <tr>\n",
       "      <th>mean</th>\n",
       "      <td>31.611626</td>\n",
       "      <td>31.991995</td>\n",
       "      <td>31.193432</td>\n",
       "      <td>31.599740</td>\n",
       "      <td>31.599740</td>\n",
       "      <td>1.425338e+08</td>\n",
       "    </tr>\n",
       "    <tr>\n",
       "      <th>std</th>\n",
       "      <td>48.095343</td>\n",
       "      <td>48.659651</td>\n",
       "      <td>47.464476</td>\n",
       "      <td>48.060258</td>\n",
       "      <td>48.060258</td>\n",
       "      <td>1.401619e+08</td>\n",
       "    </tr>\n",
       "    <tr>\n",
       "      <th>min</th>\n",
       "      <td>0.070313</td>\n",
       "      <td>0.072396</td>\n",
       "      <td>0.065625</td>\n",
       "      <td>0.069792</td>\n",
       "      <td>0.069792</td>\n",
       "      <td>9.744000e+06</td>\n",
       "    </tr>\n",
       "    <tr>\n",
       "      <th>25%</th>\n",
       "      <td>1.998875</td>\n",
       "      <td>2.028500</td>\n",
       "      <td>1.964750</td>\n",
       "      <td>2.001250</td>\n",
       "      <td>2.001250</td>\n",
       "      <td>6.888182e+07</td>\n",
       "    </tr>\n",
       "    <tr>\n",
       "      <th>50%</th>\n",
       "      <td>6.456750</td>\n",
       "      <td>6.535500</td>\n",
       "      <td>6.353250</td>\n",
       "      <td>6.444250</td>\n",
       "      <td>6.444250</td>\n",
       "      <td>1.059050e+08</td>\n",
       "    </tr>\n",
       "    <tr>\n",
       "      <th>75%</th>\n",
       "      <td>38.451375</td>\n",
       "      <td>38.688000</td>\n",
       "      <td>38.203001</td>\n",
       "      <td>38.464625</td>\n",
       "      <td>38.464625</td>\n",
       "      <td>1.607700e+08</td>\n",
       "    </tr>\n",
       "    <tr>\n",
       "      <th>max</th>\n",
       "      <td>187.199997</td>\n",
       "      <td>188.654007</td>\n",
       "      <td>184.839493</td>\n",
       "      <td>186.570496</td>\n",
       "      <td>186.570496</td>\n",
       "      <td>2.086584e+09</td>\n",
       "    </tr>\n",
       "  </tbody>\n",
       "</table>\n",
       "</div>"
      ],
      "text/plain": [
       "              Open         High          Low        Close    Adj Close  \\\n",
       "count  6516.000000  6516.000000  6516.000000  6516.000000  6516.000000   \n",
       "mean     31.611626    31.991995    31.193432    31.599740    31.599740   \n",
       "std      48.095343    48.659651    47.464476    48.060258    48.060258   \n",
       "min       0.070313     0.072396     0.065625     0.069792     0.069792   \n",
       "25%       1.998875     2.028500     1.964750     2.001250     2.001250   \n",
       "50%       6.456750     6.535500     6.353250     6.444250     6.444250   \n",
       "75%      38.451375    38.688000    38.203001    38.464625    38.464625   \n",
       "max     187.199997   188.654007   184.839493   186.570496   186.570496   \n",
       "\n",
       "             Volume  \n",
       "count  6.516000e+03  \n",
       "mean   1.425338e+08  \n",
       "std    1.401619e+08  \n",
       "min    9.744000e+06  \n",
       "25%    6.888182e+07  \n",
       "50%    1.059050e+08  \n",
       "75%    1.607700e+08  \n",
       "max    2.086584e+09  "
      ]
     },
     "execution_count": 5,
     "metadata": {},
     "output_type": "execute_result"
    }
   ],
   "source": [
    "df.describe()"
   ]
  },
  {
   "cell_type": "code",
   "execution_count": 6,
   "id": "f0706994-7d1c-45ed-b651-2cfd94dc938f",
   "metadata": {
    "tags": []
   },
   "outputs": [],
   "source": [
    "df_trim = df[[\"Date\", \"Open\", \"High\", \"Low\", \"Volume\", \"Close\"]]"
   ]
  },
  {
   "cell_type": "code",
   "execution_count": 7,
   "id": "c5943a8b-ba84-455c-87cb-9b0ad44a172b",
   "metadata": {
    "tags": []
   },
   "outputs": [
    {
     "name": "stderr",
     "output_type": "stream",
     "text": [
      "/var/folders/86/2cfgk86s0b5ck9yg4rt2y2f40000gn/T/ipykernel_17138/373635155.py:1: SettingWithCopyWarning: \n",
      "A value is trying to be set on a copy of a slice from a DataFrame.\n",
      "Try using .loc[row_indexer,col_indexer] = value instead\n",
      "\n",
      "See the caveats in the documentation: https://pandas.pydata.org/pandas-docs/stable/user_guide/indexing.html#returning-a-view-versus-a-copy\n",
      "  df_trim[\"Date\"] = pd.to_datetime(df_trim[\"Date\"])\n"
     ]
    }
   ],
   "source": [
    "df_trim[\"Date\"] = pd.to_datetime(df_trim[\"Date\"])"
   ]
  },
  {
   "cell_type": "code",
   "execution_count": 8,
   "id": "83d8ed71-6903-4ee1-a371-352c7803263b",
   "metadata": {
    "tags": []
   },
   "outputs": [
    {
     "data": {
      "text/plain": [
       "[<matplotlib.lines.Line2D at 0x177d026b0>]"
      ]
     },
     "execution_count": 8,
     "metadata": {},
     "output_type": "execute_result"
    },
    {
     "data": {
      "image/png": "[encoded data removed]",
      "text/plain": [
       "<Figure size 640x480 with 1 Axes>"
      ]
     },
     "metadata": {},
     "output_type": "display_data"
    }
   ],
   "source": [
    "plt.plot(df_trim[\"Date\"], df_trim[\"Close\"])"
   ]
  },
  {
   "cell_type": "code",
   "execution_count": 9,
   "id": "cb6df440-5fe8-4944-82fb-a5211d554e39",
   "metadata": {
    "tags": []
   },
   "outputs": [
    {
     "data": {
      "text/plain": [
       "[<matplotlib.lines.Line2D at 0x177e7d240>]"
      ]
     },
     "execution_count": 9,
     "metadata": {},
     "output_type": "execute_result"
    },
    {
     "data": {
      "image/png": "[encoded data removed]",
      "text/plain": [
       "<Figure size 640x480 with 1 Axes>"
      ]
     },
     "metadata": {},
     "output_type": "display_data"
    }
   ],
   "source": [
    "plt.plot(df_trim[\"Date\"], df_trim[\"Volume\"])"
   ]
  },
  {
   "cell_type": "code",
   "execution_count": 10,
   "id": "ff415d65-f49e-448c-82c0-475cc6e69682",
   "metadata": {
    "tags": []
   },
   "outputs": [
    {
     "name": "stdout",
     "output_type": "stream",
     "text": [
      "(6516, 5)\n"
     ]
    },
    {
     "name": "stderr",
     "output_type": "stream",
     "text": [
      "/var/folders/86/2cfgk86s0b5ck9yg4rt2y2f40000gn/T/ipykernel_17138/2810624330.py:5: SettingWithCopyWarning: \n",
      "A value is trying to be set on a copy of a slice from a DataFrame.\n",
      "Try using .loc[row_indexer,col_indexer] = value instead\n",
      "\n",
      "See the caveats in the documentation: https://pandas.pydata.org/pandas-docs/stable/user_guide/indexing.html#returning-a-view-versus-a-copy\n",
      "  df[columns] = scaled_data\n"
     ]
    }
   ],
   "source": [
    "# Scale columns between -1 and 1\n",
    "def scale_columns(df, columns):\n",
    "    scaled_data = scaler.fit_transform(df[columns])\n",
    "    print(scaled_data.shape)\n",
    "    df[columns] = scaled_data\n",
    "    return df\n",
    "df_trim_scaled = scale_columns(df_trim, [\"Open\", \"Close\", \"High\", \"Low\", \"Volume\"])"
   ]
  },
  {
   "cell_type": "code",
   "execution_count": 11,
   "id": "d427c6d0-de33-4a47-a492-8653a2845fe6",
   "metadata": {
    "tags": []
   },
   "outputs": [
    {
     "data": {
      "text/html": [
       "<div>\n",
       "<style scoped>\n",
       "    .dataframe tbody tr th:only-of-type {\n",
       "        vertical-align: middle;\n",
       "    }\n",
       "\n",
       "    .dataframe tbody tr th {\n",
       "        vertical-align: top;\n",
       "    }\n",
       "\n",
       "    .dataframe thead th {\n",
       "        text-align: right;\n",
       "    }\n",
       "</style>\n",
       "<table border=\"1\" class=\"dataframe\">\n",
       "  <thead>\n",
       "    <tr style=\"text-align: right;\">\n",
       "      <th></th>\n",
       "      <th>Open</th>\n",
       "      <th>High</th>\n",
       "      <th>Low</th>\n",
       "      <th>Volume</th>\n",
       "      <th>Close</th>\n",
       "      <th>Sequence(t-10)</th>\n",
       "      <th>Sequence(t-9)</th>\n",
       "      <th>Sequence(t-8)</th>\n",
       "      <th>Sequence(t-7)</th>\n",
       "      <th>Sequence(t-6)</th>\n",
       "      <th>Sequence(t-5)</th>\n",
       "      <th>Sequence(t-4)</th>\n",
       "      <th>Sequence(t-3)</th>\n",
       "      <th>Sequence(t-2)</th>\n",
       "      <th>Sequence(t-1)</th>\n",
       "    </tr>\n",
       "    <tr>\n",
       "      <th>Date</th>\n",
       "      <th></th>\n",
       "      <th></th>\n",
       "      <th></th>\n",
       "      <th></th>\n",
       "      <th></th>\n",
       "      <th></th>\n",
       "      <th></th>\n",
       "      <th></th>\n",
       "      <th></th>\n",
       "      <th></th>\n",
       "      <th></th>\n",
       "      <th></th>\n",
       "      <th></th>\n",
       "      <th></th>\n",
       "      <th></th>\n",
       "    </tr>\n",
       "  </thead>\n",
       "  <tbody>\n",
       "    <tr>\n",
       "      <th>1997-05-30</th>\n",
       "      <td>0.000025</td>\n",
       "      <td>0.000017</td>\n",
       "      <td>0.000045</td>\n",
       "      <td>0.020292</td>\n",
       "      <td>0.000028</td>\n",
       "      <td>[0.0002755415330044591, 0.00015080372029051433...</td>\n",
       "      <td>[0.00015029683906268978, 8.93615929728608e-05,...</td>\n",
       "      <td>[9.462956181767506e-05, 8.377984460584129e-05,...</td>\n",
       "      <td>[8.627706548149783e-05, 6.423032054613583e-05,...</td>\n",
       "      <td>[6.123026424818844e-05, 8.375303505556706e-06,...</td>\n",
       "      <td>[8.347152448566052e-06, 0.0, 0.0, 0.0, 0.10871...</td>\n",
       "      <td>[0.0, 2.7924827565262167e-05, 1.93338045033457...</td>\n",
       "      <td>[2.783096667870183e-05, 5.0267906763504775e-05...</td>\n",
       "      <td>[5.844609880279605e-05, 3.630549298087372e-05,...</td>\n",
       "      <td>[3.617811912726788e-05, 2.9318924179503345e-05...</td>\n",
       "    </tr>\n",
       "    <tr>\n",
       "      <th>1997-06-02</th>\n",
       "      <td>0.000028</td>\n",
       "      <td>0.000022</td>\n",
       "      <td>0.000051</td>\n",
       "      <td>0.001005</td>\n",
       "      <td>0.000031</td>\n",
       "      <td>[0.00015029683906268978, 8.93615929728608e-05,...</td>\n",
       "      <td>[9.462956181767506e-05, 8.377984460584129e-05,...</td>\n",
       "      <td>[8.627706548149783e-05, 6.423032054613583e-05,...</td>\n",
       "      <td>[6.123026424818844e-05, 8.375303505556706e-06,...</td>\n",
       "      <td>[8.347152448566052e-06, 0.0, 0.0, 0.0, 0.10871...</td>\n",
       "      <td>[0.0, 2.7924827565262167e-05, 1.93338045033457...</td>\n",
       "      <td>[2.783096667870183e-05, 5.0267906763504775e-05...</td>\n",
       "      <td>[5.844609880279605e-05, 3.630549298087372e-05,...</td>\n",
       "      <td>[3.617811912726788e-05, 2.9318924179503345e-05...</td>\n",
       "      <td>[2.5046801233309386e-05, 2.7924827565262167e-0...</td>\n",
       "    </tr>\n",
       "    <tr>\n",
       "      <th>1997-06-03</th>\n",
       "      <td>0.000033</td>\n",
       "      <td>0.000022</td>\n",
       "      <td>0.000045</td>\n",
       "      <td>0.006702</td>\n",
       "      <td>0.000022</td>\n",
       "      <td>[9.462956181767506e-05, 8.377984460584129e-05,...</td>\n",
       "      <td>[8.627706548149783e-05, 6.423032054613583e-05,...</td>\n",
       "      <td>[6.123026424818844e-05, 8.375303505556706e-06,...</td>\n",
       "      <td>[8.347152448566052e-06, 0.0, 0.0, 0.0, 0.10871...</td>\n",
       "      <td>[0.0, 2.7924827565262167e-05, 1.93338045033457...</td>\n",
       "      <td>[2.783096667870183e-05, 5.0267906763504775e-05...</td>\n",
       "      <td>[5.844609880279605e-05, 3.630549298087372e-05,...</td>\n",
       "      <td>[3.617811912726788e-05, 2.9318924179503345e-05...</td>\n",
       "      <td>[2.5046801233309386e-05, 2.7924827565262167e-0...</td>\n",
       "      <td>[2.783096667870183e-05, 3.071838270379937e-05,...</td>\n",
       "    </tr>\n",
       "    <tr>\n",
       "      <th>1997-06-04</th>\n",
       "      <td>0.000019</td>\n",
       "      <td>0.000011</td>\n",
       "      <td>0.000023</td>\n",
       "      <td>0.024973</td>\n",
       "      <td>0.000006</td>\n",
       "      <td>[8.627706548149783e-05, 6.423032054613583e-05,...</td>\n",
       "      <td>[6.123026424818844e-05, 8.375303505556706e-06,...</td>\n",
       "      <td>[8.347152448566052e-06, 0.0, 0.0, 0.0, 0.10871...</td>\n",
       "      <td>[0.0, 2.7924827565262167e-05, 1.93338045033457...</td>\n",
       "      <td>[2.783096667870183e-05, 5.0267906763504775e-05...</td>\n",
       "      <td>[5.844609880279605e-05, 3.630549298087372e-05,...</td>\n",
       "      <td>[3.617811912726788e-05, 2.9318924179503345e-05...</td>\n",
       "      <td>[2.5046801233309386e-05, 2.7924827565262167e-0...</td>\n",
       "      <td>[2.783096667870183e-05, 3.071838270379937e-05,...</td>\n",
       "      <td>[3.339929756948667e-05, 2.2337717288187816e-05...</td>\n",
       "    </tr>\n",
       "    <tr>\n",
       "      <th>1997-06-05</th>\n",
       "      <td>0.000003</td>\n",
       "      <td>0.000025</td>\n",
       "      <td>0.000017</td>\n",
       "      <td>0.049934</td>\n",
       "      <td>0.000039</td>\n",
       "      <td>[6.123026424818844e-05, 8.375303505556706e-06,...</td>\n",
       "      <td>[8.347152448566052e-06, 0.0, 0.0, 0.0, 0.10871...</td>\n",
       "      <td>[0.0, 2.7924827565262167e-05, 1.93338045033457...</td>\n",
       "      <td>[2.783096667870183e-05, 5.0267906763504775e-05...</td>\n",
       "      <td>[5.844609880279605e-05, 3.630549298087372e-05,...</td>\n",
       "      <td>[3.617811912726788e-05, 2.9318924179503345e-05...</td>\n",
       "      <td>[2.5046801233309386e-05, 2.7924827565262167e-0...</td>\n",
       "      <td>[2.783096667870183e-05, 3.071838270379937e-05,...</td>\n",
       "      <td>[3.339929756948667e-05, 2.2337717288187816e-05...</td>\n",
       "      <td>[1.947847034252455e-05, 5.581748367019504e-06,...</td>\n",
       "    </tr>\n",
       "    <tr>\n",
       "      <th>...</th>\n",
       "      <td>...</td>\n",
       "      <td>...</td>\n",
       "      <td>...</td>\n",
       "      <td>...</td>\n",
       "      <td>...</td>\n",
       "      <td>...</td>\n",
       "      <td>...</td>\n",
       "      <td>...</td>\n",
       "      <td>...</td>\n",
       "      <td>...</td>\n",
       "      <td>...</td>\n",
       "      <td>...</td>\n",
       "      <td>...</td>\n",
       "      <td>...</td>\n",
       "      <td>...</td>\n",
       "    </tr>\n",
       "    <tr>\n",
       "      <th>2023-03-30</th>\n",
       "      <td>0.542296</td>\n",
       "      <td>0.546011</td>\n",
       "      <td>0.546313</td>\n",
       "      <td>0.021133</td>\n",
       "      <td>0.546541</td>\n",
       "      <td>[0.5113014939949345, 0.5360312688149425, 0.535...</td>\n",
       "      <td>[0.5328908052877382, 0.5301867654075987, 0.533...</td>\n",
       "      <td>[0.5255162564160585, 0.5235380076634992, 0.521...</td>\n",
       "      <td>[0.5240733800416186, 0.5390875575461636, 0.534...</td>\n",
       "      <td>[0.5364177497355256, 0.5288462878939053, 0.541...</td>\n",
       "      <td>[0.5363108880149662, 0.5288999177182732, 0.535...</td>\n",
       "      <td>[0.5236993132527279, 0.5257899991626842, 0.520...</td>\n",
       "      <td>[0.5290432008638458, 0.5253074487053948, 0.526...</td>\n",
       "      <td>[0.5239130741010602, 0.5210179045758455, 0.521...</td>\n",
       "      <td>[0.5270125342593963, 0.5371572645645349, 0.532...</td>\n",
       "    </tr>\n",
       "    <tr>\n",
       "      <th>2023-03-31</th>\n",
       "      <td>0.545556</td>\n",
       "      <td>0.548397</td>\n",
       "      <td>0.551400</td>\n",
       "      <td>0.022611</td>\n",
       "      <td>0.553457</td>\n",
       "      <td>[0.5328908052877382, 0.5301867654075987, 0.533...</td>\n",
       "      <td>[0.5255162564160585, 0.5235380076634992, 0.521...</td>\n",
       "      <td>[0.5240733800416186, 0.5390875575461636, 0.534...</td>\n",
       "      <td>[0.5364177497355256, 0.5288462878939053, 0.541...</td>\n",
       "      <td>[0.5363108880149662, 0.5288999177182732, 0.535...</td>\n",
       "      <td>[0.5236993132527279, 0.5257899991626842, 0.520...</td>\n",
       "      <td>[0.5290432008638458, 0.5253074487053948, 0.526...</td>\n",
       "      <td>[0.5239130741010602, 0.5210179045758455, 0.521...</td>\n",
       "      <td>[0.5270125342593963, 0.5371572645645349, 0.532...</td>\n",
       "      <td>[0.542296058171081, 0.5465406071603891, 0.5460...</td>\n",
       "    </tr>\n",
       "    <tr>\n",
       "      <th>2023-04-03</th>\n",
       "      <td>0.546304</td>\n",
       "      <td>0.547337</td>\n",
       "      <td>0.548586</td>\n",
       "      <td>0.015115</td>\n",
       "      <td>0.548739</td>\n",
       "      <td>[0.5255162564160585, 0.5235380076634992, 0.521...</td>\n",
       "      <td>[0.5240733800416186, 0.5390875575461636, 0.534...</td>\n",
       "      <td>[0.5364177497355256, 0.5288462878939053, 0.541...</td>\n",
       "      <td>[0.5363108880149662, 0.5288999177182732, 0.535...</td>\n",
       "      <td>[0.5236993132527279, 0.5257899991626842, 0.520...</td>\n",
       "      <td>[0.5290432008638458, 0.5253074487053948, 0.526...</td>\n",
       "      <td>[0.5239130741010602, 0.5210179045758455, 0.521...</td>\n",
       "      <td>[0.5270125342593963, 0.5371572645645349, 0.532...</td>\n",
       "      <td>[0.542296058171081, 0.5465406071603891, 0.5460...</td>\n",
       "      <td>[0.5455558349577504, 0.5534574764929575, 0.548...</td>\n",
       "    </tr>\n",
       "    <tr>\n",
       "      <th>2023-04-04</th>\n",
       "      <td>0.548709</td>\n",
       "      <td>0.552162</td>\n",
       "      <td>0.552266</td>\n",
       "      <td>0.018739</td>\n",
       "      <td>0.556996</td>\n",
       "      <td>[0.5240733800416186, 0.5390875575461636, 0.534...</td>\n",
       "      <td>[0.5364177497355256, 0.5288462878939053, 0.541...</td>\n",
       "      <td>[0.5363108880149662, 0.5288999177182732, 0.535...</td>\n",
       "      <td>[0.5236993132527279, 0.5257899991626842, 0.520...</td>\n",
       "      <td>[0.5290432008638458, 0.5253074487053948, 0.526...</td>\n",
       "      <td>[0.5239130741010602, 0.5210179045758455, 0.521...</td>\n",
       "      <td>[0.5270125342593963, 0.5371572645645349, 0.532...</td>\n",
       "      <td>[0.542296058171081, 0.5465406071603891, 0.5460...</td>\n",
       "      <td>[0.5455558349577504, 0.5534574764929575, 0.548...</td>\n",
       "      <td>[0.5463039738794193, 0.5487390117304867, 0.547...</td>\n",
       "    </tr>\n",
       "    <tr>\n",
       "      <th>2023-04-05</th>\n",
       "      <td>0.554908</td>\n",
       "      <td>0.550624</td>\n",
       "      <td>0.544906</td>\n",
       "      <td>0.017025</td>\n",
       "      <td>0.541715</td>\n",
       "      <td>[0.5364177497355256, 0.5288462878939053, 0.541...</td>\n",
       "      <td>[0.5363108880149662, 0.5288999177182732, 0.535...</td>\n",
       "      <td>[0.5236993132527279, 0.5257899991626842, 0.520...</td>\n",
       "      <td>[0.5290432008638458, 0.5253074487053948, 0.526...</td>\n",
       "      <td>[0.5239130741010602, 0.5210179045758455, 0.521...</td>\n",
       "      <td>[0.5270125342593963, 0.5371572645645349, 0.532...</td>\n",
       "      <td>[0.542296058171081, 0.5465406071603891, 0.5460...</td>\n",
       "      <td>[0.5455558349577504, 0.5534574764929575, 0.548...</td>\n",
       "      <td>[0.5463039738794193, 0.5487390117304867, 0.547...</td>\n",
       "      <td>[0.5487087072727596, 0.5569963156814679, 0.552...</td>\n",
       "    </tr>\n",
       "  </tbody>\n",
       "</table>\n",
       "<p>6506 rows × 15 columns</p>\n",
       "</div>"
      ],
      "text/plain": [
       "                Open      High       Low    Volume     Close  \\\n",
       "Date                                                           \n",
       "1997-05-30  0.000025  0.000017  0.000045  0.020292  0.000028   \n",
       "1997-06-02  0.000028  0.000022  0.000051  0.001005  0.000031   \n",
       "1997-06-03  0.000033  0.000022  0.000045  0.006702  0.000022   \n",
       "1997-06-04  0.000019  0.000011  0.000023  0.024973  0.000006   \n",
       "1997-06-05  0.000003  0.000025  0.000017  0.049934  0.000039   \n",
       "...              ...       ...       ...       ...       ...   \n",
       "2023-03-30  0.542296  0.546011  0.546313  0.021133  0.546541   \n",
       "2023-03-31  0.545556  0.548397  0.551400  0.022611  0.553457   \n",
       "2023-04-03  0.546304  0.547337  0.548586  0.015115  0.548739   \n",
       "2023-04-04  0.548709  0.552162  0.552266  0.018739  0.556996   \n",
       "2023-04-05  0.554908  0.550624  0.544906  0.017025  0.541715   \n",
       "\n",
       "                                               Sequence(t-10)  \\\n",
       "Date                                                            \n",
       "1997-05-30  [0.0002755415330044591, 0.00015080372029051433...   \n",
       "1997-06-02  [0.00015029683906268978, 8.93615929728608e-05,...   \n",
       "1997-06-03  [9.462956181767506e-05, 8.377984460584129e-05,...   \n",
       "1997-06-04  [8.627706548149783e-05, 6.423032054613583e-05,...   \n",
       "1997-06-05  [6.123026424818844e-05, 8.375303505556706e-06,...   \n",
       "...                                                       ...   \n",
       "2023-03-30  [0.5113014939949345, 0.5360312688149425, 0.535...   \n",
       "2023-03-31  [0.5328908052877382, 0.5301867654075987, 0.533...   \n",
       "2023-04-03  [0.5255162564160585, 0.5235380076634992, 0.521...   \n",
       "2023-04-04  [0.5240733800416186, 0.5390875575461636, 0.534...   \n",
       "2023-04-05  [0.5364177497355256, 0.5288462878939053, 0.541...   \n",
       "\n",
       "                                                Sequence(t-9)  \\\n",
       "Date                                                            \n",
       "1997-05-30  [0.00015029683906268978, 8.93615929728608e-05,...   \n",
       "1997-06-02  [9.462956181767506e-05, 8.377984460584129e-05,...   \n",
       "1997-06-03  [8.627706548149783e-05, 6.423032054613583e-05,...   \n",
       "1997-06-04  [6.123026424818844e-05, 8.375303505556706e-06,...   \n",
       "1997-06-05  [8.347152448566052e-06, 0.0, 0.0, 0.0, 0.10871...   \n",
       "...                                                       ...   \n",
       "2023-03-30  [0.5328908052877382, 0.5301867654075987, 0.533...   \n",
       "2023-03-31  [0.5255162564160585, 0.5235380076634992, 0.521...   \n",
       "2023-04-03  [0.5240733800416186, 0.5390875575461636, 0.534...   \n",
       "2023-04-04  [0.5364177497355256, 0.5288462878939053, 0.541...   \n",
       "2023-04-05  [0.5363108880149662, 0.5288999177182732, 0.535...   \n",
       "\n",
       "                                                Sequence(t-8)  \\\n",
       "Date                                                            \n",
       "1997-05-30  [9.462956181767506e-05, 8.377984460584129e-05,...   \n",
       "1997-06-02  [8.627706548149783e-05, 6.423032054613583e-05,...   \n",
       "1997-06-03  [6.123026424818844e-05, 8.375303505556706e-06,...   \n",
       "1997-06-04  [8.347152448566052e-06, 0.0, 0.0, 0.0, 0.10871...   \n",
       "1997-06-05  [0.0, 2.7924827565262167e-05, 1.93338045033457...   \n",
       "...                                                       ...   \n",
       "2023-03-30  [0.5255162564160585, 0.5235380076634992, 0.521...   \n",
       "2023-03-31  [0.5240733800416186, 0.5390875575461636, 0.534...   \n",
       "2023-04-03  [0.5364177497355256, 0.5288462878939053, 0.541...   \n",
       "2023-04-04  [0.5363108880149662, 0.5288999177182732, 0.535...   \n",
       "2023-04-05  [0.5236993132527279, 0.5257899991626842, 0.520...   \n",
       "\n",
       "                                                Sequence(t-7)  \\\n",
       "Date                                                            \n",
       "1997-05-30  [8.627706548149783e-05, 6.423032054613583e-05,...   \n",
       "1997-06-02  [6.123026424818844e-05, 8.375303505556706e-06,...   \n",
       "1997-06-03  [8.347152448566052e-06, 0.0, 0.0, 0.0, 0.10871...   \n",
       "1997-06-04  [0.0, 2.7924827565262167e-05, 1.93338045033457...   \n",
       "1997-06-05  [2.783096667870183e-05, 5.0267906763504775e-05...   \n",
       "...                                                       ...   \n",
       "2023-03-30  [0.5240733800416186, 0.5390875575461636, 0.534...   \n",
       "2023-03-31  [0.5364177497355256, 0.5288462878939053, 0.541...   \n",
       "2023-04-03  [0.5363108880149662, 0.5288999177182732, 0.535...   \n",
       "2023-04-04  [0.5236993132527279, 0.5257899991626842, 0.520...   \n",
       "2023-04-05  [0.5290432008638458, 0.5253074487053948, 0.526...   \n",
       "\n",
       "                                                Sequence(t-6)  \\\n",
       "Date                                                            \n",
       "1997-05-30  [6.123026424818844e-05, 8.375303505556706e-06,...   \n",
       "1997-06-02  [8.347152448566052e-06, 0.0, 0.0, 0.0, 0.10871...   \n",
       "1997-06-03  [0.0, 2.7924827565262167e-05, 1.93338045033457...   \n",
       "1997-06-04  [2.783096667870183e-05, 5.0267906763504775e-05...   \n",
       "1997-06-05  [5.844609880279605e-05, 3.630549298087372e-05,...   \n",
       "...                                                       ...   \n",
       "2023-03-30  [0.5364177497355256, 0.5288462878939053, 0.541...   \n",
       "2023-03-31  [0.5363108880149662, 0.5288999177182732, 0.535...   \n",
       "2023-04-03  [0.5236993132527279, 0.5257899991626842, 0.520...   \n",
       "2023-04-04  [0.5290432008638458, 0.5253074487053948, 0.526...   \n",
       "2023-04-05  [0.5239130741010602, 0.5210179045758455, 0.521...   \n",
       "\n",
       "                                                Sequence(t-5)  \\\n",
       "Date                                                            \n",
       "1997-05-30  [8.347152448566052e-06, 0.0, 0.0, 0.0, 0.10871...   \n",
       "1997-06-02  [0.0, 2.7924827565262167e-05, 1.93338045033457...   \n",
       "1997-06-03  [2.783096667870183e-05, 5.0267906763504775e-05...   \n",
       "1997-06-04  [5.844609880279605e-05, 3.630549298087372e-05,...   \n",
       "1997-06-05  [3.617811912726788e-05, 2.9318924179503345e-05...   \n",
       "...                                                       ...   \n",
       "2023-03-30  [0.5363108880149662, 0.5288999177182732, 0.535...   \n",
       "2023-03-31  [0.5236993132527279, 0.5257899991626842, 0.520...   \n",
       "2023-04-03  [0.5290432008638458, 0.5253074487053948, 0.526...   \n",
       "2023-04-04  [0.5239130741010602, 0.5210179045758455, 0.521...   \n",
       "2023-04-05  [0.5270125342593963, 0.5371572645645349, 0.532...   \n",
       "\n",
       "                                                Sequence(t-4)  \\\n",
       "Date                                                            \n",
       "1997-05-30  [0.0, 2.7924827565262167e-05, 1.93338045033457...   \n",
       "1997-06-02  [2.783096667870183e-05, 5.0267906763504775e-05...   \n",
       "1997-06-03  [5.844609880279605e-05, 3.630549298087372e-05,...   \n",
       "1997-06-04  [3.617811912726788e-05, 2.9318924179503345e-05...   \n",
       "1997-06-05  [2.5046801233309386e-05, 2.7924827565262167e-0...   \n",
       "...                                                       ...   \n",
       "2023-03-30  [0.5236993132527279, 0.5257899991626842, 0.520...   \n",
       "2023-03-31  [0.5290432008638458, 0.5253074487053948, 0.526...   \n",
       "2023-04-03  [0.5239130741010602, 0.5210179045758455, 0.521...   \n",
       "2023-04-04  [0.5270125342593963, 0.5371572645645349, 0.532...   \n",
       "2023-04-05  [0.542296058171081, 0.5465406071603891, 0.5460...   \n",
       "\n",
       "                                                Sequence(t-3)  \\\n",
       "Date                                                            \n",
       "1997-05-30  [2.783096667870183e-05, 5.0267906763504775e-05...   \n",
       "1997-06-02  [5.844609880279605e-05, 3.630549298087372e-05,...   \n",
       "1997-06-03  [3.617811912726788e-05, 2.9318924179503345e-05...   \n",
       "1997-06-04  [2.5046801233309386e-05, 2.7924827565262167e-0...   \n",
       "1997-06-05  [2.783096667870183e-05, 3.071838270379937e-05,...   \n",
       "...                                                       ...   \n",
       "2023-03-30  [0.5290432008638458, 0.5253074487053948, 0.526...   \n",
       "2023-03-31  [0.5239130741010602, 0.5210179045758455, 0.521...   \n",
       "2023-04-03  [0.5270125342593963, 0.5371572645645349, 0.532...   \n",
       "2023-04-04  [0.542296058171081, 0.5465406071603891, 0.5460...   \n",
       "2023-04-05  [0.5455558349577504, 0.5534574764929575, 0.548...   \n",
       "\n",
       "                                                Sequence(t-2)  \\\n",
       "Date                                                            \n",
       "1997-05-30  [5.844609880279605e-05, 3.630549298087372e-05,...   \n",
       "1997-06-02  [3.617811912726788e-05, 2.9318924179503345e-05...   \n",
       "1997-06-03  [2.5046801233309386e-05, 2.7924827565262167e-0...   \n",
       "1997-06-04  [2.783096667870183e-05, 3.071838270379937e-05,...   \n",
       "1997-06-05  [3.339929756948667e-05, 2.2337717288187816e-05...   \n",
       "...                                                       ...   \n",
       "2023-03-30  [0.5239130741010602, 0.5210179045758455, 0.521...   \n",
       "2023-03-31  [0.5270125342593963, 0.5371572645645349, 0.532...   \n",
       "2023-04-03  [0.542296058171081, 0.5465406071603891, 0.5460...   \n",
       "2023-04-04  [0.5455558349577504, 0.5534574764929575, 0.548...   \n",
       "2023-04-05  [0.5463039738794193, 0.5487390117304867, 0.547...   \n",
       "\n",
       "                                                Sequence(t-1)  \n",
       "Date                                                           \n",
       "1997-05-30  [3.617811912726788e-05, 2.9318924179503345e-05...  \n",
       "1997-06-02  [2.5046801233309386e-05, 2.7924827565262167e-0...  \n",
       "1997-06-03  [2.783096667870183e-05, 3.071838270379937e-05,...  \n",
       "1997-06-04  [3.339929756948667e-05, 2.2337717288187816e-05...  \n",
       "1997-06-05  [1.947847034252455e-05, 5.581748367019504e-06,...  \n",
       "...                                                       ...  \n",
       "2023-03-30  [0.5270125342593963, 0.5371572645645349, 0.532...  \n",
       "2023-03-31  [0.542296058171081, 0.5465406071603891, 0.5460...  \n",
       "2023-04-03  [0.5455558349577504, 0.5534574764929575, 0.548...  \n",
       "2023-04-04  [0.5463039738794193, 0.5487390117304867, 0.547...  \n",
       "2023-04-05  [0.5487087072727596, 0.5569963156814679, 0.552...  \n",
       "\n",
       "[6506 rows x 15 columns]"
      ]
     },
     "execution_count": 11,
     "metadata": {},
     "output_type": "execute_result"
    }
   ],
   "source": [
    "def create_history_columns(df, pred_col, feature_cols, n_steps):\n",
    "    df_shifted = df.copy()\n",
    "    for i in range(n_steps, 0, -1):\n",
    "        df_shifted[f\"Sequence(t-{i})\"] = [None] * len(df_shifted)     \n",
    "    \n",
    "    for row in df_shifted.itertuples():\n",
    "        if row[0] < n_steps:\n",
    "            continue\n",
    "            \n",
    "        for i in range(n_steps, 0, -1): \n",
    "            df_shifted.at[row[0], f\"Sequence(t-{i})\"] = [df_shifted.at[row[0]-i, col] for col in feature_cols]\n",
    "    return df_shifted\n",
    "\n",
    "sequence = 10\n",
    "p_col = \"Close\"\n",
    "f_cols = [\"Open\", \"Close\", \"High\", \"Low\", \"Volume\"]\n",
    "df_shifted = create_history_columns(df_trim_scaled, p_col, f_cols, sequence)\n",
    "df_shifted.set_index('Date', inplace=True)\n",
    "df_shifted.dropna(how='any', inplace=True)\n",
    "data_np = df_shifted.to_numpy()\n",
    "df_shifted"
   ]
  },
  {
   "cell_type": "code",
   "execution_count": 12,
   "id": "015ec2bd-8e7a-4e32-8d75-bb35af82983e",
   "metadata": {
    "tags": []
   },
   "outputs": [
    {
     "data": {
      "text/plain": [
       "(torch.Size([6506, 10, 5]), torch.Size([6506, 1]))"
      ]
     },
     "execution_count": 12,
     "metadata": {},
     "output_type": "execute_result"
    }
   ],
   "source": [
    "X = data_np[:, 5:].tolist()\n",
    "y = data_np[:, 4].tolist()\n",
    "X = torch.tensor(X, dtype=torch.float32)\n",
    "y = torch.tensor(y, dtype=torch.float32).unsqueeze(dim=-1)\n",
    "X.shape, y.shape"
   ]
  },
  {
   "cell_type": "code",
   "execution_count": 13,
   "id": "d8f5f0a0-3408-443c-90de-a1446499a5b0",
   "metadata": {
    "tags": []
   },
   "outputs": [
    {
     "data": {
      "text/plain": [
       "(torch.Size([5855, 10, 5]),\n",
       " torch.Size([651, 10, 5]),\n",
       " torch.Size([5855, 1]),\n",
       " torch.Size([651, 1]))"
      ]
     },
     "execution_count": 13,
     "metadata": {},
     "output_type": "execute_result"
    }
   ],
   "source": [
    "split_index = int(len(X) * 0.9)\n",
    "X_train, X_test = X[:split_index], X[split_index: ]\n",
    "y_train, y_test = y[:split_index], y[split_index: ]\n",
    "X_train.shape, X_test.shape, y_train.shape, y_test.shape"
   ]
  },
  {
   "cell_type": "code",
   "execution_count": 14,
   "id": "f17ac1c0-d8e2-4afe-81b0-73698ce62a55",
   "metadata": {
    "tags": []
   },
   "outputs": [],
   "source": [
    "class StockPriceForecastDataset(Dataset):\n",
    "    def __init__(self, X, y):\n",
    "        self.X = X\n",
    "        self.y = y\n",
    "    def __len__(self):\n",
    "        return len(self.X)\n",
    "    def __getitem__(self, index):\n",
    "        return self.X[index], self.y[index]\n",
    "train_dataset = StockPriceForecastDataset(X_train, y_train)\n",
    "test_dataset = StockPriceForecastDataset(X_test, y_test)\n",
    "\n",
    "b_size = 24\n",
    "train_loader = DataLoader(train_dataset, batch_size=b_size, shuffle=True)\n",
    "test_loader = DataLoader(test_dataset, batch_size=b_size, shuffle=False)"
   ]
  },
  {
   "cell_type": "code",
   "execution_count": 15,
   "id": "d6aa924a-d14b-4ea9-a8c8-91a164b135ef",
   "metadata": {
    "tags": []
   },
   "outputs": [],
   "source": [
    "class LSTMModel(nn.Module):\n",
    "    def __init__(self, input_size, hidden_size, stacked_layers):\n",
    "        super(LSTMModel, self).__init__()\n",
    "        self.hidden_size = hidden_size\n",
    "        self.stacked_layers = stacked_layers\n",
    "        self.lstm = nn.LSTM(input_size, hidden_size, stacked_layers, batch_first=True, bidirectional=True)\n",
    "        self.fc = nn.Linear(hidden_size*2, 1)\n",
    "    \n",
    "    def forward(self, x):\n",
    "        b_size = x.shape[0]\n",
    "        hidden_state = torch.zeros([self.stacked_layers * 2, b_size, self.hidden_size]).to(device)\n",
    "        cell_state = torch.zeros([self.stacked_layers * 2, b_size, self.hidden_size]).to(device)\n",
    "        # out - Hidden state of each timestep: (b_size, timesteps, hidden_size)\n",
    "        # _ : Hidden state of the LSTM. Its a tuple of N tensors, one for the hidden state of each layer.\n",
    "        out, _ = self.lstm(x, (hidden_state, cell_state))\n",
    "        out = self.fc(out[:, -1, :])\n",
    "        return out "
   ]
  },
  {
   "cell_type": "code",
   "execution_count": 16,
   "id": "30145616-4750-49c9-999f-ee2a295333be",
   "metadata": {
    "tags": []
   },
   "outputs": [
    {
     "data": {
      "text/plain": [
       "LSTMModel(\n",
       "  (lstm): LSTM(5, 4, num_layers=2, batch_first=True, bidirectional=True)\n",
       "  (fc): Linear(in_features=8, out_features=1, bias=True)\n",
       ")"
      ]
     },
     "execution_count": 16,
     "metadata": {},
     "output_type": "execute_result"
    }
   ],
   "source": [
    "model = LSTMModel(5, 4, 2)\n",
    "model.to(device)"
   ]
  },
  {
   "cell_type": "code",
   "execution_count": 18,
   "id": "c401ddb7-4fcc-45a1-8fa1-af62b654318d",
   "metadata": {
    "tags": []
   },
   "outputs": [
    {
     "name": "stdout",
     "output_type": "stream",
     "text": [
      "torch.Size([24, 10, 5])\n"
     ]
    }
   ],
   "source": [
    "for index, batch in enumerate(train_loader):\n",
    "    inp, gt = batch[0].to(device), batch[1].to(device)\n",
    "    print(inp.shape)\n",
    "    break"
   ]
  },
  {
   "cell_type": "code",
   "execution_count": 39,
   "id": "873d7120-dda6-4b34-8ae7-8212f14096b5",
   "metadata": {
    "tags": []
   },
   "outputs": [
    {
     "name": "stdout",
     "output_type": "stream",
     "text": [
      "Running Epoch 1\n",
      "Batch: 50, Average Loss: 0.024532973766326904\n",
      "Batch: 100, Average Loss: 0.013102131895720959\n",
      "Batch: 150, Average Loss: 0.003331106621772051\n",
      "Batch: 200, Average Loss: 0.0008238626760430634\n",
      "Running Epoch 2\n",
      "Batch: 50, Average Loss: 0.0007843002676963806\n",
      "Batch: 100, Average Loss: 0.0005546336760744452\n",
      "Batch: 150, Average Loss: 0.00029623546288348734\n",
      "Batch: 200, Average Loss: 0.000260595086729154\n",
      "Running Epoch 3\n",
      "Batch: 50, Average Loss: 0.00020833751477766782\n",
      "Batch: 100, Average Loss: 0.00016330282960552722\n",
      "Batch: 150, Average Loss: 8.731114940019324e-05\n",
      "Batch: 200, Average Loss: 6.638783816015348e-05\n",
      "Running Epoch 4\n",
      "Batch: 50, Average Loss: 5.6770943047013134e-05\n",
      "Batch: 100, Average Loss: 5.1373743190197274e-05\n",
      "Batch: 150, Average Loss: 4.485286626731977e-05\n",
      "Batch: 200, Average Loss: 4.39562281826511e-05\n",
      "Running Epoch 5\n",
      "Batch: 50, Average Loss: 4.1052895539905876e-05\n",
      "Batch: 100, Average Loss: 7.170579920057207e-05\n",
      "Batch: 150, Average Loss: 5.062618583906442e-05\n",
      "Batch: 200, Average Loss: 3.8499958463944495e-05\n",
      "Running Epoch 6\n",
      "Batch: 50, Average Loss: 4.2247269448125735e-05\n",
      "Batch: 100, Average Loss: 5.7054352510022e-05\n",
      "Batch: 150, Average Loss: 5.448772571980953e-05\n",
      "Batch: 200, Average Loss: 4.8737605538917705e-05\n",
      "Running Epoch 7\n",
      "Batch: 50, Average Loss: 5.382285962696187e-05\n",
      "Batch: 100, Average Loss: 4.06309227400925e-05\n",
      "Batch: 150, Average Loss: 4.28014354838524e-05\n",
      "Batch: 200, Average Loss: 5.175420665182173e-05\n",
      "Running Epoch 8\n",
      "Batch: 50, Average Loss: 4.9880454753292724e-05\n",
      "Batch: 100, Average Loss: 5.357539339456707e-05\n",
      "Batch: 150, Average Loss: 4.111853922950104e-05\n",
      "Batch: 200, Average Loss: 3.7666581192752346e-05\n",
      "Running Epoch 9\n",
      "Batch: 50, Average Loss: 5.120023706695065e-05\n",
      "Batch: 100, Average Loss: 4.34705798397772e-05\n",
      "Batch: 150, Average Loss: 3.9233062125276774e-05\n",
      "Batch: 200, Average Loss: 4.585368515108712e-05\n",
      "Running Epoch 10\n",
      "Batch: 50, Average Loss: 5.0021106289932504e-05\n",
      "Batch: 100, Average Loss: 4.607399750966579e-05\n",
      "Batch: 150, Average Loss: 4.547829303191975e-05\n",
      "Batch: 200, Average Loss: 5.59201835130807e-05\n",
      "Running Epoch 11\n",
      "Batch: 50, Average Loss: 5.175350815989077e-05\n",
      "Batch: 100, Average Loss: 5.177667480893433e-05\n",
      "Batch: 150, Average Loss: 3.8609876355621964e-05\n",
      "Batch: 200, Average Loss: 3.85732673748862e-05\n",
      "Running Epoch 12\n",
      "Batch: 50, Average Loss: 5.841932579642162e-05\n",
      "Batch: 100, Average Loss: 4.264157178113237e-05\n",
      "Batch: 150, Average Loss: 3.8202982977963984e-05\n",
      "Batch: 200, Average Loss: 4.373474803287536e-05\n",
      "Running Epoch 13\n",
      "Batch: 50, Average Loss: 4.17641676904168e-05\n",
      "Batch: 100, Average Loss: 3.856843977700919e-05\n",
      "Batch: 150, Average Loss: 4.720912693301216e-05\n",
      "Batch: 200, Average Loss: 3.48372632288374e-05\n",
      "Running Epoch 14\n",
      "Batch: 50, Average Loss: 4.503701347857714e-05\n",
      "Batch: 100, Average Loss: 3.3253454603254795e-05\n",
      "Batch: 150, Average Loss: 3.0001518098288216e-05\n",
      "Batch: 200, Average Loss: 4.113727845833637e-05\n",
      "Running Epoch 15\n",
      "Batch: 50, Average Loss: 5.816693737870082e-05\n",
      "Batch: 100, Average Loss: 3.591315180528909e-05\n",
      "Batch: 150, Average Loss: 3.822366852546111e-05\n",
      "Batch: 200, Average Loss: 4.8779835196910426e-05\n",
      "Running Epoch 16\n",
      "Batch: 50, Average Loss: 3.3474902011221275e-05\n",
      "Batch: 100, Average Loss: 4.106119740754366e-05\n",
      "Batch: 150, Average Loss: 4.0566959796706215e-05\n",
      "Batch: 200, Average Loss: 4.1308769141323864e-05\n",
      "Running Epoch 17\n",
      "Batch: 50, Average Loss: 3.139233376714401e-05\n",
      "Batch: 100, Average Loss: 3.408961129025556e-05\n",
      "Batch: 150, Average Loss: 4.3478692532517016e-05\n",
      "Batch: 200, Average Loss: 3.2940653909463435e-05\n",
      "Running Epoch 18\n",
      "Batch: 50, Average Loss: 3.807313260040246e-05\n",
      "Batch: 100, Average Loss: 3.728384763235226e-05\n",
      "Batch: 150, Average Loss: 3.9713344449410215e-05\n",
      "Batch: 200, Average Loss: 3.474156619631685e-05\n",
      "Running Epoch 19\n",
      "Batch: 50, Average Loss: 4.7779954911675304e-05\n",
      "Batch: 100, Average Loss: 3.29247850459069e-05\n",
      "Batch: 150, Average Loss: 2.8905813451274298e-05\n",
      "Batch: 200, Average Loss: 4.433240610524081e-05\n",
      "Running Epoch 20\n",
      "Batch: 50, Average Loss: 3.856374678434804e-05\n",
      "Batch: 100, Average Loss: 3.1820898584555835e-05\n",
      "Batch: 150, Average Loss: 3.734638085006736e-05\n",
      "Batch: 200, Average Loss: 3.564796134014614e-05\n"
     ]
    }
   ],
   "source": [
    "# Training \n",
    "lr = 0.001\n",
    "epochs = 20\n",
    "loss_function = nn.MSELoss()\n",
    "optimizer = torch.optim.Adam(model.parameters(), lr=lr)\n",
    "\n",
    "model.train(True)\n",
    "for epoch in range(epochs):\n",
    "    print(f\"Running Epoch {epoch+1}\")\n",
    "    running_loss = 0. \n",
    "    for index, batch in enumerate(train_loader):\n",
    "        inp, gt = batch[0].to(device), batch[1].to(device)\n",
    "        pred = model(inp)\n",
    "        loss = loss_function(pred, gt)\n",
    "        running_loss += loss\n",
    "        optimizer.zero_grad()\n",
    "        loss.backward()\n",
    "        optimizer.step()\n",
    "        \n",
    "        if index > 0 and index % 50 == 0:\n",
    "            avg_batch_loss = running_loss / 50.\n",
    "            print(f\"Batch: {index}, Average Loss: {avg_batch_loss}\")\n",
    "            running_loss = 0."
   ]
  },
  {
   "cell_type": "code",
   "execution_count": 40,
   "id": "84f8a8b9-7631-4512-9cb7-aa445ce44322",
   "metadata": {
    "tags": []
   },
   "outputs": [
    {
     "name": "stdout",
     "output_type": "stream",
     "text": [
      "Test Loss: 0.0011503177229315042\n"
     ]
    }
   ],
   "source": [
    "# Validation \n",
    "model.train(False)\n",
    "running_loss = 0.\n",
    "\n",
    "for index, batch in enumerate(test_loader):\n",
    "    inp, gt = batch[0].to(device), batch[1].to(device)\n",
    "    with torch.no_grad():\n",
    "        pred = model(inp)\n",
    "        loss = loss_function(pred, gt)\n",
    "        running_loss += loss\n",
    "\n",
    "avg_batch_loss = running_loss / len(test_loader)\n",
    "print(f\"Test Loss: {avg_batch_loss}\")"
   ]
  },
  {
   "cell_type": "code",
   "execution_count": 41,
   "id": "855b0937-d55d-4db7-b79c-1ba81c13d73a",
   "metadata": {
    "tags": []
   },
   "outputs": [
    {
     "data": {
      "image/png": "[encoded data removed]",
      "text/plain": [
       "<Figure size 640x480 with 1 Axes>"
      ]
     },
     "metadata": {},
     "output_type": "display_data"
    }
   ],
   "source": [
    "pred = model(X_train).detach().numpy()\n",
    "plt.plot(y_train.numpy(), label=\"Actual_Close\")\n",
    "plt.plot(pred, label=\"Predicted_Close\")\n",
    "plt.show()"
   ]
  },
  {
   "cell_type": "code",
   "execution_count": 42,
   "id": "0bea2e9f-dfeb-4620-9e71-6674a228774c",
   "metadata": {},
   "outputs": [
    {
     "data": {
      "image/png": "[encoded data removed]",
      "text/plain": [
       "<Figure size 640x480 with 1 Axes>"
      ]
     },
     "metadata": {},
     "output_type": "display_data"
    }
   ],
   "source": [
    "test_predictions = model(X_test.to(device)).detach().cpu().numpy().flatten()\n",
    "\n",
    "# Inverse Scale predictions\n",
    "dummies = np.zeros((X_test.shape[0], len(f_cols)))\n",
    "dummies[:, -1] = test_predictions # The last column corresponds to Close Column\n",
    "dummies = scaler.inverse_transform(dummies)\n",
    "test_predictions = dc(dummies[:, -1])\n",
    "\n",
    "# Inverse Scale actual values\n",
    "dummies[:, -1] = y_test.numpy().flatten()\n",
    "dummies = scaler.inverse_transform(dummies)\n",
    "actual = dc(dummies[:, -1])\n",
    "\n",
    "plt.plot(actual, label='Actual Close')\n",
    "plt.plot(test_predictions, label='Predicted Close')\n",
    "plt.xlabel('Day')\n",
    "plt.ylabel('Close')\n",
    "plt.legend()\n",
    "plt.show()"
   ]
  },
  {
   "cell_type": "code",
   "execution_count": 20,
   "id": "cee92e62-b699-4fc7-994d-dabe9a86bb29",
   "metadata": {
    "tags": []
   },
   "outputs": [],
   "source": [
    "import torch\n",
    "import torch.nn as nn\n",
    "\n",
    "embed_layer = nn.Embedding(1000, 10)\n",
    "inp = torch.tensor([[1, 10, 100, 500, 990], [1, 10, 100, 500, 990]]).unsqueeze(dim=-1)"
   ]
  },
  {
   "cell_type": "code",
   "execution_count": 39,
   "id": "2e05bdcb-b041-4b4b-bbbe-d3c9706bbe67",
   "metadata": {
    "tags": []
   },
   "outputs": [],
   "source": [
    "import torch\n",
    "import torch.nn as nn\n",
    "\n",
    "input_size = 1000\n",
    "output_size = 80000\n",
    "\n",
    "linear_layer = nn.Linear(input_size, output_size)\n",
    "\n",
    "input_tensor = torch.randn(2, 1000)  # Example input tensor\n",
    "\n",
    "logits = linear_layer(input_tensor)  # Shape: (2, 80000)"
   ]
  },
  {
   "cell_type": "code",
   "execution_count": 40,
   "id": "d3ff4af2-124b-4e98-ab61-2d8c95c59aa6",
   "metadata": {
    "tags": []
   },
   "outputs": [
    {
     "data": {
      "text/plain": [
       "torch.Size([2, 1000])"
      ]
     },
     "execution_count": 40,
     "metadata": {},
     "output_type": "execute_result"
    }
   ],
   "source": [
    "input_tensor.shape"
   ]
  },
  {
   "cell_type": "code",
   "execution_count": 44,
   "id": "df1f35e3-f117-46fd-b91d-c7f0e2a8881b",
   "metadata": {
    "tags": []
   },
   "outputs": [
    {
     "data": {
      "text/plain": [
       "torch.Size([5, 2])"
      ]
     },
     "execution_count": 44,
     "metadata": {},
     "output_type": "execute_result"
    }
   ],
   "source": [
    "inp = torch.tensor([[1, 10, 100, 500, 990], [1, 10, 100, 500, 990]]).transpose(1, 0)\n",
    "inp.shape"
   ]
  },
  {
   "cell_type": "code",
   "execution_count": 47,
   "id": "3fe53103-989d-4384-88c6-eb43f3f13fcc",
   "metadata": {
    "tags": []
   },
   "outputs": [
    {
     "data": {
      "text/plain": [
       "torch.Size([2, 1, 80000])"
      ]
     },
     "execution_count": 47,
     "metadata": {},
     "output_type": "execute_result"
    }
   ],
   "source": [
    "linear_layer = nn.Linear(1000, 80000)\n",
    "linear_layer(torch.randn([2, 1, 1000])).shape"
   ]
  },
  {
   "cell_type": "code",
   "execution_count": 71,
   "id": "d9d92c29-089e-4df2-bd07-06688a33d59d",
   "metadata": {
    "tags": []
   },
   "outputs": [
    {
     "data": {
      "text/plain": [
       "torch.Size([1, 20])"
      ]
     },
     "execution_count": 71,
     "metadata": {},
     "output_type": "execute_result"
    }
   ],
   "source": [
    "torch.rand((10, 1, 20))[0].shape"
   ]
  },
  {
   "cell_type": "code",
   "execution_count": 73,
   "id": "a28b2a5b-3795-4e22-9175-ff78f1fe4e8b",
   "metadata": {
    "tags": []
   },
   "outputs": [
    {
     "data": {
      "text/plain": [
       "tensor([[0.7280],\n",
       "        [0.6321],\n",
       "        [0.5097],\n",
       "        [0.4647],\n",
       "        [0.4925],\n",
       "        [0.0698],\n",
       "        [0.0629],\n",
       "        [0.0612],\n",
       "        [0.1469],\n",
       "        [0.7080],\n",
       "        [0.4560],\n",
       "        [0.1215],\n",
       "        [0.2642],\n",
       "        [0.1061],\n",
       "        [0.7270],\n",
       "        [0.0597],\n",
       "        [0.5602],\n",
       "        [0.6416],\n",
       "        [0.3708],\n",
       "        [0.6270]])"
      ]
     },
     "execution_count": 73,
     "metadata": {},
     "output_type": "execute_result"
    }
   ],
   "source": [
    "torch.rand((10, 20, 1))[0]"
   ]
  },
  {
   "cell_type": "code",
   "execution_count": null,
   "id": "cce4f36c-33ee-4bb0-a662-afda4534b1ad",
   "metadata": {},
   "outputs": [],
   "source": []
  }
 ],
 "metadata": {
  "kernelspec": {
   "display_name": "Python 3 (ipykernel)",
   "language": "python",
   "name": "python3"
  },
  "language_info": {
   "codemirror_mode": {
    "name": "ipython",
    "version": 3
   },
   "file_extension": ".py",
   "mimetype": "text/x-python",
   "name": "python",
   "nbconvert_exporter": "python",
   "pygments_lexer": "ipython3",
   "version": "3.10.6"
  }
 },
 "nbformat": 4,
 "nbformat_minor": 5
}
