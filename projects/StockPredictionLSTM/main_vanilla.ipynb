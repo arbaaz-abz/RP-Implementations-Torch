{
 "cells": [
  {
   "cell_type": "code",
   "execution_count": 1,
   "id": "790c1846-9cb7-4f47-85ce-84129455cc74",
   "metadata": {
    "tags": []
   },
   "outputs": [],
   "source": [
    "import pandas as pd\n",
    "import numpy as np\n",
    "import matplotlib.pyplot as plt\n",
    "import torch\n",
    "import torch.nn as nn\n",
    "from datetime import datetime \n",
    "from torch.utils.data import Dataset\n",
    "from torch.utils.data import DataLoader\n",
    "from copy import deepcopy as dc\n",
    "\n",
    "device = \"cuda:0\" if torch.cuda.is_available() else \"cpu\""
   ]
  },
  {
   "cell_type": "code",
   "execution_count": 2,
   "id": "803e7bba-34c8-4f95-9a3e-20e73c77e2f9",
   "metadata": {
    "tags": []
   },
   "outputs": [],
   "source": [
    "df = pd.read_csv(\"AMZN.csv\")"
   ]
  },
  {
   "cell_type": "code",
   "execution_count": null,
   "id": "d05cb56e-c09c-4658-8a32-b0b06a14974a",
   "metadata": {
    "tags": []
   },
   "outputs": [
    {
     "data": {
      "text/html": [
       "<div>\n",
       "<style scoped>\n",
       "    .dataframe tbody tr th:only-of-type {\n",
       "        vertical-align: middle;\n",
       "    }\n",
       "\n",
       "    .dataframe tbody tr th {\n",
       "        vertical-align: top;\n",
       "    }\n",
       "\n",
       "    .dataframe thead th {\n",
       "        text-align: right;\n",
       "    }\n",
       "</style>\n",
       "<table border=\"1\" class=\"dataframe\">\n",
       "  <thead>\n",
       "    <tr style=\"text-align: right;\">\n",
       "      <th></th>\n",
       "      <th>Date</th>\n",
       "      <th>Open</th>\n",
       "      <th>High</th>\n",
       "      <th>Low</th>\n",
       "      <th>Close</th>\n",
       "      <th>Adj Close</th>\n",
       "      <th>Volume</th>\n",
       "    </tr>\n",
       "  </thead>\n",
       "  <tbody>\n",
       "    <tr>\n",
       "      <th>0</th>\n",
       "      <td>1997-05-15</td>\n",
       "      <td>0.121875</td>\n",
       "      <td>0.125000</td>\n",
       "      <td>0.096354</td>\n",
       "      <td>0.097917</td>\n",
       "      <td>0.097917</td>\n",
       "      <td>1443120000</td>\n",
       "    </tr>\n",
       "    <tr>\n",
       "      <th>1</th>\n",
       "      <td>1997-05-16</td>\n",
       "      <td>0.098438</td>\n",
       "      <td>0.098958</td>\n",
       "      <td>0.085417</td>\n",
       "      <td>0.086458</td>\n",
       "      <td>0.086458</td>\n",
       "      <td>294000000</td>\n",
       "    </tr>\n",
       "    <tr>\n",
       "      <th>2</th>\n",
       "      <td>1997-05-19</td>\n",
       "      <td>0.088021</td>\n",
       "      <td>0.088542</td>\n",
       "      <td>0.081250</td>\n",
       "      <td>0.085417</td>\n",
       "      <td>0.085417</td>\n",
       "      <td>122136000</td>\n",
       "    </tr>\n",
       "    <tr>\n",
       "      <th>3</th>\n",
       "      <td>1997-05-20</td>\n",
       "      <td>0.086458</td>\n",
       "      <td>0.087500</td>\n",
       "      <td>0.081771</td>\n",
       "      <td>0.081771</td>\n",
       "      <td>0.081771</td>\n",
       "      <td>109344000</td>\n",
       "    </tr>\n",
       "    <tr>\n",
       "      <th>4</th>\n",
       "      <td>1997-05-21</td>\n",
       "      <td>0.081771</td>\n",
       "      <td>0.082292</td>\n",
       "      <td>0.068750</td>\n",
       "      <td>0.071354</td>\n",
       "      <td>0.071354</td>\n",
       "      <td>377064000</td>\n",
       "    </tr>\n",
       "  </tbody>\n",
       "</table>\n",
       "</div>"
      ],
      "text/plain": [
       "         Date      Open      High       Low     Close  Adj Close      Volume\n",
       "0  1997-05-15  0.121875  0.125000  0.096354  0.097917   0.097917  1443120000\n",
       "1  1997-05-16  0.098438  0.098958  0.085417  0.086458   0.086458   294000000\n",
       "2  1997-05-19  0.088021  0.088542  0.081250  0.085417   0.085417   122136000\n",
       "3  1997-05-20  0.086458  0.087500  0.081771  0.081771   0.081771   109344000\n",
       "4  1997-05-21  0.081771  0.082292  0.068750  0.071354   0.071354   377064000"
      ]
     },
     "execution_count": 3,
     "metadata": {},
     "output_type": "execute_result"
    }
   ],
   "source": [
    "df.head()"
   ]
  },
  {
   "cell_type": "code",
   "execution_count": null,
   "id": "f367228c-5239-4ce6-97fc-569cda15a21a",
   "metadata": {
    "tags": []
   },
   "outputs": [
    {
     "name": "stdout",
     "output_type": "stream",
     "text": [
      "<class 'pandas.core.frame.DataFrame'>\n",
      "RangeIndex: 6516 entries, 0 to 6515\n",
      "Data columns (total 7 columns):\n",
      " #   Column     Non-Null Count  Dtype  \n",
      "---  ------     --------------  -----  \n",
      " 0   Date       6516 non-null   object \n",
      " 1   Open       6516 non-null   float64\n",
      " 2   High       6516 non-null   float64\n",
      " 3   Low        6516 non-null   float64\n",
      " 4   Close      6516 non-null   float64\n",
      " 5   Adj Close  6516 non-null   float64\n",
      " 6   Volume     6516 non-null   int64  \n",
      "dtypes: float64(5), int64(1), object(1)\n",
      "memory usage: 356.5+ KB\n"
     ]
    }
   ],
   "source": [
    "df.info()"
   ]
  },
  {
   "cell_type": "code",
   "execution_count": null,
   "id": "c92d86ce-2076-47cd-8771-7cf6943cb2dd",
   "metadata": {
    "tags": []
   },
   "outputs": [
    {
     "data": {
      "text/html": [
       "<div>\n",
       "<style scoped>\n",
       "    .dataframe tbody tr th:only-of-type {\n",
       "        vertical-align: middle;\n",
       "    }\n",
       "\n",
       "    .dataframe tbody tr th {\n",
       "        vertical-align: top;\n",
       "    }\n",
       "\n",
       "    .dataframe thead th {\n",
       "        text-align: right;\n",
       "    }\n",
       "</style>\n",
       "<table border=\"1\" class=\"dataframe\">\n",
       "  <thead>\n",
       "    <tr style=\"text-align: right;\">\n",
       "      <th></th>\n",
       "      <th>Open</th>\n",
       "      <th>High</th>\n",
       "      <th>Low</th>\n",
       "      <th>Close</th>\n",
       "      <th>Adj Close</th>\n",
       "      <th>Volume</th>\n",
       "    </tr>\n",
       "  </thead>\n",
       "  <tbody>\n",
       "    <tr>\n",
       "      <th>count</th>\n",
       "      <td>6516.000000</td>\n",
       "      <td>6516.000000</td>\n",
       "      <td>6516.000000</td>\n",
       "      <td>6516.000000</td>\n",
       "      <td>6516.000000</td>\n",
       "      <td>6.516000e+03</td>\n",
       "    </tr>\n",
       "    <tr>\n",
       "      <th>mean</th>\n",
       "      <td>31.611626</td>\n",
       "      <td>31.991995</td>\n",
       "      <td>31.193432</td>\n",
       "      <td>31.599740</td>\n",
       "      <td>31.599740</td>\n",
       "      <td>1.425338e+08</td>\n",
       "    </tr>\n",
       "    <tr>\n",
       "      <th>std</th>\n",
       "      <td>48.095343</td>\n",
       "      <td>48.659651</td>\n",
       "      <td>47.464476</td>\n",
       "      <td>48.060258</td>\n",
       "      <td>48.060258</td>\n",
       "      <td>1.401619e+08</td>\n",
       "    </tr>\n",
       "    <tr>\n",
       "      <th>min</th>\n",
       "      <td>0.070313</td>\n",
       "      <td>0.072396</td>\n",
       "      <td>0.065625</td>\n",
       "      <td>0.069792</td>\n",
       "      <td>0.069792</td>\n",
       "      <td>9.744000e+06</td>\n",
       "    </tr>\n",
       "    <tr>\n",
       "      <th>25%</th>\n",
       "      <td>1.998875</td>\n",
       "      <td>2.028500</td>\n",
       "      <td>1.964750</td>\n",
       "      <td>2.001250</td>\n",
       "      <td>2.001250</td>\n",
       "      <td>6.888182e+07</td>\n",
       "    </tr>\n",
       "    <tr>\n",
       "      <th>50%</th>\n",
       "      <td>6.456750</td>\n",
       "      <td>6.535500</td>\n",
       "      <td>6.353250</td>\n",
       "      <td>6.444250</td>\n",
       "      <td>6.444250</td>\n",
       "      <td>1.059050e+08</td>\n",
       "    </tr>\n",
       "    <tr>\n",
       "      <th>75%</th>\n",
       "      <td>38.451375</td>\n",
       "      <td>38.688000</td>\n",
       "      <td>38.203001</td>\n",
       "      <td>38.464625</td>\n",
       "      <td>38.464625</td>\n",
       "      <td>1.607700e+08</td>\n",
       "    </tr>\n",
       "    <tr>\n",
       "      <th>max</th>\n",
       "      <td>187.199997</td>\n",
       "      <td>188.654007</td>\n",
       "      <td>184.839493</td>\n",
       "      <td>186.570496</td>\n",
       "      <td>186.570496</td>\n",
       "      <td>2.086584e+09</td>\n",
       "    </tr>\n",
       "  </tbody>\n",
       "</table>\n",
       "</div>"
      ],
      "text/plain": [
       "              Open         High          Low        Close    Adj Close  \\\n",
       "count  6516.000000  6516.000000  6516.000000  6516.000000  6516.000000   \n",
       "mean     31.611626    31.991995    31.193432    31.599740    31.599740   \n",
       "std      48.095343    48.659651    47.464476    48.060258    48.060258   \n",
       "min       0.070313     0.072396     0.065625     0.069792     0.069792   \n",
       "25%       1.998875     2.028500     1.964750     2.001250     2.001250   \n",
       "50%       6.456750     6.535500     6.353250     6.444250     6.444250   \n",
       "75%      38.451375    38.688000    38.203001    38.464625    38.464625   \n",
       "max     187.199997   188.654007   184.839493   186.570496   186.570496   \n",
       "\n",
       "             Volume  \n",
       "count  6.516000e+03  \n",
       "mean   1.425338e+08  \n",
       "std    1.401619e+08  \n",
       "min    9.744000e+06  \n",
       "25%    6.888182e+07  \n",
       "50%    1.059050e+08  \n",
       "75%    1.607700e+08  \n",
       "max    2.086584e+09  "
      ]
     },
     "execution_count": 5,
     "metadata": {},
     "output_type": "execute_result"
    }
   ],
   "source": [
    "df.describe()"
   ]
  },
  {
   "cell_type": "code",
   "execution_count": null,
   "id": "f0706994-7d1c-45ed-b651-2cfd94dc938f",
   "metadata": {
    "tags": []
   },
   "outputs": [],
   "source": [
    "df_trim = df[[\"Date\", \"Close\"]]"
   ]
  },
  {
   "cell_type": "code",
   "execution_count": null,
   "id": "c5943a8b-ba84-455c-87cb-9b0ad44a172b",
   "metadata": {
    "tags": []
   },
   "outputs": [
    {
     "name": "stderr",
     "output_type": "stream",
     "text": [
      "/var/folders/86/2cfgk86s0b5ck9yg4rt2y2f40000gn/T/ipykernel_11137/373635155.py:1: SettingWithCopyWarning: \n",
      "A value is trying to be set on a copy of a slice from a DataFrame.\n",
      "Try using .loc[row_indexer,col_indexer] = value instead\n",
      "\n",
      "See the caveats in the documentation: https://pandas.pydata.org/pandas-docs/stable/user_guide/indexing.html#returning-a-view-versus-a-copy\n",
      "  df_trim[\"Date\"] = pd.to_datetime(df_trim[\"Date\"])\n"
     ]
    }
   ],
   "source": [
    "df_trim[\"Date\"] = pd.to_datetime(df_trim[\"Date\"])"
   ]
  },
  {
   "cell_type": "code",
   "execution_count": null,
   "id": "6aedc42b-82b7-4a98-bd05-5eb94c79d6d2",
   "metadata": {
    "tags": []
   },
   "outputs": [
    {
     "data": {
      "text/plain": [
       "Timestamp('1997-05-15 00:00:00')"
      ]
     },
     "execution_count": 8,
     "metadata": {},
     "output_type": "execute_result"
    }
   ],
   "source": [
    "df_trim.iloc[0, 0]"
   ]
  },
  {
   "cell_type": "code",
   "execution_count": null,
   "id": "83d8ed71-6903-4ee1-a371-352c7803263b",
   "metadata": {
    "tags": []
   },
   "outputs": [
    {
     "data": {
      "text/plain": [
       "[<matplotlib.lines.Line2D at 0x16711cf40>]"
      ]
     },
     "execution_count": 9,
     "metadata": {},
     "output_type": "execute_result"
    },
    {
     "data": {
      "image/png": "[encoded data removed]",
      "text/plain": [
       "<Figure size 640x480 with 1 Axes>"
      ]
     },
     "metadata": {},
     "output_type": "display_data"
    }
   ],
   "source": [
    "plt.plot(df_trim[\"Date\"], df_trim[\"Close\"])"
   ]
  },
  {
   "cell_type": "code",
   "execution_count": null,
   "id": "d427c6d0-de33-4a47-a492-8653a2845fe6",
   "metadata": {
    "tags": []
   },
   "outputs": [
    {
     "data": {
      "text/html": [
       "<div>\n",
       "<style scoped>\n",
       "    .dataframe tbody tr th:only-of-type {\n",
       "        vertical-align: middle;\n",
       "    }\n",
       "\n",
       "    .dataframe tbody tr th {\n",
       "        vertical-align: top;\n",
       "    }\n",
       "\n",
       "    .dataframe thead th {\n",
       "        text-align: right;\n",
       "    }\n",
       "</style>\n",
       "<table border=\"1\" class=\"dataframe\">\n",
       "  <thead>\n",
       "    <tr style=\"text-align: right;\">\n",
       "      <th></th>\n",
       "      <th>Close</th>\n",
       "      <th>Close_(t-7)</th>\n",
       "      <th>Close_(t-6)</th>\n",
       "      <th>Close_(t-5)</th>\n",
       "      <th>Close_(t-4)</th>\n",
       "      <th>Close_(t-3)</th>\n",
       "      <th>Close_(t-2)</th>\n",
       "      <th>Close_(t-1)</th>\n",
       "    </tr>\n",
       "    <tr>\n",
       "      <th>Date</th>\n",
       "      <th></th>\n",
       "      <th></th>\n",
       "      <th></th>\n",
       "      <th></th>\n",
       "      <th></th>\n",
       "      <th></th>\n",
       "      <th></th>\n",
       "      <th></th>\n",
       "    </tr>\n",
       "  </thead>\n",
       "  <tbody>\n",
       "    <tr>\n",
       "      <th>1997-05-27</th>\n",
       "      <td>0.079167</td>\n",
       "      <td>0.075</td>\n",
       "      <td>0.069792</td>\n",
       "      <td>0.071354</td>\n",
       "      <td>0.081771</td>\n",
       "      <td>0.085417</td>\n",
       "      <td>0.086458</td>\n",
       "      <td>0.097917</td>\n",
       "    </tr>\n",
       "    <tr>\n",
       "      <th>1997-05-28</th>\n",
       "      <td>0.076563</td>\n",
       "      <td>0.079167</td>\n",
       "      <td>0.075</td>\n",
       "      <td>0.069792</td>\n",
       "      <td>0.071354</td>\n",
       "      <td>0.081771</td>\n",
       "      <td>0.085417</td>\n",
       "      <td>0.086458</td>\n",
       "    </tr>\n",
       "    <tr>\n",
       "      <th>1997-05-29</th>\n",
       "      <td>0.075260</td>\n",
       "      <td>0.076563</td>\n",
       "      <td>0.079167</td>\n",
       "      <td>0.075</td>\n",
       "      <td>0.069792</td>\n",
       "      <td>0.071354</td>\n",
       "      <td>0.081771</td>\n",
       "      <td>0.085417</td>\n",
       "    </tr>\n",
       "    <tr>\n",
       "      <th>1997-05-30</th>\n",
       "      <td>0.075000</td>\n",
       "      <td>0.07526</td>\n",
       "      <td>0.076563</td>\n",
       "      <td>0.079167</td>\n",
       "      <td>0.075</td>\n",
       "      <td>0.069792</td>\n",
       "      <td>0.071354</td>\n",
       "      <td>0.081771</td>\n",
       "    </tr>\n",
       "    <tr>\n",
       "      <th>1997-06-02</th>\n",
       "      <td>0.075521</td>\n",
       "      <td>0.075</td>\n",
       "      <td>0.07526</td>\n",
       "      <td>0.076563</td>\n",
       "      <td>0.079167</td>\n",
       "      <td>0.075</td>\n",
       "      <td>0.069792</td>\n",
       "      <td>0.071354</td>\n",
       "    </tr>\n",
       "    <tr>\n",
       "      <th>...</th>\n",
       "      <td>...</td>\n",
       "      <td>...</td>\n",
       "      <td>...</td>\n",
       "      <td>...</td>\n",
       "      <td>...</td>\n",
       "      <td>...</td>\n",
       "      <td>...</td>\n",
       "      <td>...</td>\n",
       "    </tr>\n",
       "    <tr>\n",
       "      <th>2023-03-30</th>\n",
       "      <td>102.000000</td>\n",
       "      <td>100.25</td>\n",
       "      <td>97.239998</td>\n",
       "      <td>98.040001</td>\n",
       "      <td>98.129997</td>\n",
       "      <td>98.709999</td>\n",
       "      <td>98.699997</td>\n",
       "      <td>100.610001</td>\n",
       "    </tr>\n",
       "    <tr>\n",
       "      <th>2023-03-31</th>\n",
       "      <td>103.290001</td>\n",
       "      <td>102.0</td>\n",
       "      <td>100.25</td>\n",
       "      <td>97.239998</td>\n",
       "      <td>98.040001</td>\n",
       "      <td>98.129997</td>\n",
       "      <td>98.709999</td>\n",
       "      <td>98.699997</td>\n",
       "    </tr>\n",
       "    <tr>\n",
       "      <th>2023-04-03</th>\n",
       "      <td>102.410004</td>\n",
       "      <td>103.290001</td>\n",
       "      <td>102.0</td>\n",
       "      <td>100.25</td>\n",
       "      <td>97.239998</td>\n",
       "      <td>98.040001</td>\n",
       "      <td>98.129997</td>\n",
       "      <td>98.709999</td>\n",
       "    </tr>\n",
       "    <tr>\n",
       "      <th>2023-04-04</th>\n",
       "      <td>103.949997</td>\n",
       "      <td>102.410004</td>\n",
       "      <td>103.290001</td>\n",
       "      <td>102.0</td>\n",
       "      <td>100.25</td>\n",
       "      <td>97.239998</td>\n",
       "      <td>98.040001</td>\n",
       "      <td>98.129997</td>\n",
       "    </tr>\n",
       "    <tr>\n",
       "      <th>2023-04-05</th>\n",
       "      <td>101.099998</td>\n",
       "      <td>103.949997</td>\n",
       "      <td>102.410004</td>\n",
       "      <td>103.290001</td>\n",
       "      <td>102.0</td>\n",
       "      <td>100.25</td>\n",
       "      <td>97.239998</td>\n",
       "      <td>98.040001</td>\n",
       "    </tr>\n",
       "  </tbody>\n",
       "</table>\n",
       "<p>6509 rows × 8 columns</p>\n",
       "</div>"
      ],
      "text/plain": [
       "                 Close Close_(t-7) Close_(t-6) Close_(t-5) Close_(t-4)  \\\n",
       "Date                                                                     \n",
       "1997-05-27    0.079167       0.075    0.069792    0.071354    0.081771   \n",
       "1997-05-28    0.076563    0.079167       0.075    0.069792    0.071354   \n",
       "1997-05-29    0.075260    0.076563    0.079167       0.075    0.069792   \n",
       "1997-05-30    0.075000     0.07526    0.076563    0.079167       0.075   \n",
       "1997-06-02    0.075521       0.075     0.07526    0.076563    0.079167   \n",
       "...                ...         ...         ...         ...         ...   \n",
       "2023-03-30  102.000000      100.25   97.239998   98.040001   98.129997   \n",
       "2023-03-31  103.290001       102.0      100.25   97.239998   98.040001   \n",
       "2023-04-03  102.410004  103.290001       102.0      100.25   97.239998   \n",
       "2023-04-04  103.949997  102.410004  103.290001       102.0      100.25   \n",
       "2023-04-05  101.099998  103.949997  102.410004  103.290001       102.0   \n",
       "\n",
       "           Close_(t-3) Close_(t-2) Close_(t-1)  \n",
       "Date                                            \n",
       "1997-05-27    0.085417    0.086458    0.097917  \n",
       "1997-05-28    0.081771    0.085417    0.086458  \n",
       "1997-05-29    0.071354    0.081771    0.085417  \n",
       "1997-05-30    0.069792    0.071354    0.081771  \n",
       "1997-06-02       0.075    0.069792    0.071354  \n",
       "...                ...         ...         ...  \n",
       "2023-03-30   98.709999   98.699997  100.610001  \n",
       "2023-03-31   98.129997   98.709999   98.699997  \n",
       "2023-04-03   98.040001   98.129997   98.709999  \n",
       "2023-04-04   97.239998   98.040001   98.129997  \n",
       "2023-04-05      100.25   97.239998   98.040001  \n",
       "\n",
       "[6509 rows x 8 columns]"
      ]
     },
     "execution_count": 10,
     "metadata": {},
     "output_type": "execute_result"
    }
   ],
   "source": [
    "def create_history_columns(df, n_steps):\n",
    "    df_shifted = df.copy()\n",
    "    for i in range(n_steps, 0, -1):\n",
    "        df_shifted[f\"Close_(t-{i})\"] = [None] * len(df_shifted)\n",
    "    \n",
    "    for row in df_shifted.itertuples():\n",
    "        if row[0] < n_steps:\n",
    "            continue\n",
    "            \n",
    "        for i in range(n_steps, 0, -1): \n",
    "            df_shifted.iloc[row[0], 1 + i] = df_shifted.iloc[row[0]-i, 1]\n",
    "\n",
    "    return df_shifted\n",
    "history = 7\n",
    "df_shifted = create_history_columns(df_trim, history)\n",
    "df_shifted.set_index('Date', inplace=True)\n",
    "df_shifted.dropna(how='any', inplace=True)\n",
    "data_np = df_shifted.to_numpy()\n",
    "df_shifted"
   ]
  },
  {
   "cell_type": "code",
   "execution_count": 20,
   "id": "4a8088c0-065f-47a9-bb7f-e71aac16e931",
   "metadata": {
    "tags": []
   },
   "outputs": [
    {
     "data": {
      "text/plain": [
       "array([[0.079167, 0.075, 0.069792, ..., 0.085417, 0.086458, 0.097917],\n",
       "       [0.076563, 0.079167, 0.075, ..., 0.081771, 0.085417, 0.086458],\n",
       "       [0.07526, 0.076563, 0.079167, ..., 0.071354, 0.081771, 0.085417],\n",
       "       ...,\n",
       "       [102.410004, 103.290001, 102.0, ..., 98.040001, 98.129997,\n",
       "        98.709999],\n",
       "       [103.949997, 102.410004, 103.290001, ..., 97.239998, 98.040001,\n",
       "        98.129997],\n",
       "       [101.099998, 103.949997, 102.410004, ..., 100.25, 97.239998,\n",
       "        98.040001]], dtype=object)"
      ]
     },
     "execution_count": 20,
     "metadata": {},
     "output_type": "execute_result"
    }
   ],
   "source": [
    "data_np"
   ]
  },
  {
   "cell_type": "code",
   "execution_count": null,
   "id": "015ec2bd-8e7a-4e32-8d75-bb35af82983e",
   "metadata": {
    "tags": []
   },
   "outputs": [
    {
     "data": {
      "text/plain": [
       "(torch.Size([6509, 7, 1]), torch.Size([6509, 1]))"
      ]
     },
     "execution_count": 13,
     "metadata": {},
     "output_type": "execute_result"
    }
   ],
   "source": [
    "from sklearn.preprocessing import MinMaxScaler\n",
    "\n",
    "scaler = MinMaxScaler(feature_range=(-1, 1))\n",
    "data_np_scaled = scaler.fit_transform(data_np)\n",
    "X = data_np_scaled[:, 1:]\n",
    "y = data_np_scaled[:, 0]\n",
    "X = torch.tensor(X).float().unsqueeze(dim=-1)\n",
    "y = torch.tensor(y).float().unsqueeze(dim=-1)\n",
    "X.shape, y.shape"
   ]
  },
  {
   "cell_type": "code",
   "execution_count": null,
   "id": "d8f5f0a0-3408-443c-90de-a1446499a5b0",
   "metadata": {
    "tags": []
   },
   "outputs": [
    {
     "data": {
      "text/plain": [
       "(torch.Size([5858, 7, 1]),\n",
       " torch.Size([651, 7, 1]),\n",
       " torch.Size([5858, 1]),\n",
       " torch.Size([651, 1]))"
      ]
     },
     "execution_count": 14,
     "metadata": {},
     "output_type": "execute_result"
    }
   ],
   "source": [
    "split_index = int(len(X) * 0.9)\n",
    "X_train, X_test = X[:split_index], X[split_index: ]\n",
    "y_train, y_test = y[:split_index], y[split_index: ]\n",
    "X_train.shape, X_test.shape, y_train.shape, y_test.shape"
   ]
  },
  {
   "cell_type": "code",
   "execution_count": null,
   "id": "f17ac1c0-d8e2-4afe-81b0-73698ce62a55",
   "metadata": {
    "tags": []
   },
   "outputs": [],
   "source": [
    "class StockPriceForecastDataset(Dataset):\n",
    "    def __init__(self, X, y):\n",
    "        self.X = X\n",
    "        self.y = y\n",
    "    def __len__(self):\n",
    "        return len(self.X)\n",
    "    def __getitem__(self, index):\n",
    "        return self.X[index], self.y[index]\n",
    "train_dataset = StockPriceForecastDataset(X_train, y_train)\n",
    "test_dataset = StockPriceForecastDataset(X_test, y_test)\n",
    "\n",
    "b_size = 32\n",
    "train_loader = DataLoader(train_dataset, batch_size=b_size, shuffle=True)\n",
    "test_loader = DataLoader(test_dataset, batch_size=b_size, shuffle=False)"
   ]
  },
  {
   "cell_type": "code",
   "execution_count": null,
   "id": "d6aa924a-d14b-4ea9-a8c8-91a164b135ef",
   "metadata": {
    "tags": []
   },
   "outputs": [],
   "source": [
    "class LSTMModel(nn.Module):\n",
    "    def __init__(self, input_size, hidden_size, stacked_layers):\n",
    "        super(LSTMModel, self).__init__()\n",
    "        self.hidden_size = hidden_size\n",
    "        self.stacked_layers = stacked_layers\n",
    "        self.lstm = nn.LSTM(input_size, hidden_size, stacked_layers, batch_first=True)\n",
    "        self.fc = nn.Linear(hidden_size, 1)\n",
    "    \n",
    "    def forward(self, x):\n",
    "        b_size = x.shape[0]\n",
    "        hidden_state = torch.zeros([self.stacked_layers, b_size, self.hidden_size]).to(device)\n",
    "        cell_state = torch.zeros([self.stacked_layers, b_size, self.hidden_size]).to(device)\n",
    "        # out - Hidden state of each timestep: (b_size, timesteps, hidden_size)\n",
    "        # _ : Hidden state of the LSTM. Its a tuple of N tensors, one for the hidden state of each layer.\n",
    "        out, _ = self.lstm(x, (hidden_state, cell_state))\n",
    "        out = self.fc(out[:, -1, :])\n",
    "        return out "
   ]
  },
  {
   "cell_type": "code",
   "execution_count": null,
   "id": "30145616-4750-49c9-999f-ee2a295333be",
   "metadata": {
    "tags": []
   },
   "outputs": [
    {
     "data": {
      "text/plain": [
       "LSTMModel(\n",
       "  (lstm): LSTM(1, 16, num_layers=2, batch_first=True)\n",
       "  (fc): Linear(in_features=16, out_features=1, bias=True)\n",
       ")"
      ]
     },
     "execution_count": 17,
     "metadata": {},
     "output_type": "execute_result"
    }
   ],
   "source": [
    "model = LSTMModel(1, 16, 2)\n",
    "model.to(device)"
   ]
  },
  {
   "cell_type": "code",
   "execution_count": 79,
   "id": "873d7120-dda6-4b34-8ae7-8212f14096b5",
   "metadata": {
    "tags": []
   },
   "outputs": [
    {
     "name": "stdout",
     "output_type": "stream",
     "text": [
      "Running Epoch 1\n",
      "Batch: 50, Average Loss: 0.32456082105636597\n",
      "Batch: 100, Average Loss: 0.08312239497900009\n",
      "Batch: 150, Average Loss: 0.03940052166581154\n",
      "Running Epoch 2\n",
      "Batch: 50, Average Loss: 0.006038331892341375\n",
      "Batch: 100, Average Loss: 0.003561152843758464\n",
      "Batch: 150, Average Loss: 0.003690361976623535\n",
      "Running Epoch 3\n",
      "Batch: 50, Average Loss: 0.002640080638229847\n",
      "Batch: 100, Average Loss: 0.0017106832237914205\n",
      "Batch: 150, Average Loss: 0.0017638197168707848\n",
      "Running Epoch 4\n",
      "Batch: 50, Average Loss: 0.0008359439088962972\n",
      "Batch: 100, Average Loss: 0.0006185129750519991\n",
      "Batch: 150, Average Loss: 0.0006608926341868937\n",
      "Running Epoch 5\n",
      "Batch: 50, Average Loss: 0.0006273026228882372\n",
      "Batch: 100, Average Loss: 0.0005307505489327013\n",
      "Batch: 150, Average Loss: 0.0005899721290916204\n",
      "Running Epoch 6\n",
      "Batch: 50, Average Loss: 0.0005201568710617721\n",
      "Batch: 100, Average Loss: 0.0005329525447450578\n",
      "Batch: 150, Average Loss: 0.0006030455697327852\n",
      "Running Epoch 7\n",
      "Batch: 50, Average Loss: 0.000497201457619667\n",
      "Batch: 100, Average Loss: 0.0005294528091326356\n",
      "Batch: 150, Average Loss: 0.000499838381074369\n",
      "Running Epoch 8\n",
      "Batch: 50, Average Loss: 0.0005434151389636099\n",
      "Batch: 100, Average Loss: 0.0006062312168069184\n",
      "Batch: 150, Average Loss: 0.000498967245221138\n",
      "Running Epoch 9\n",
      "Batch: 50, Average Loss: 0.0005638751899823546\n",
      "Batch: 100, Average Loss: 0.0004596981452777982\n",
      "Batch: 150, Average Loss: 0.0005544316954910755\n",
      "Running Epoch 10\n",
      "Batch: 50, Average Loss: 0.00043972584535367787\n",
      "Batch: 100, Average Loss: 0.0004953178577125072\n",
      "Batch: 150, Average Loss: 0.0006633137818425894\n",
      "Running Epoch 11\n",
      "Batch: 50, Average Loss: 0.0004650315677281469\n",
      "Batch: 100, Average Loss: 0.0004662067804019898\n",
      "Batch: 150, Average Loss: 0.0005281225894577801\n",
      "Running Epoch 12\n",
      "Batch: 50, Average Loss: 0.0005240303580649197\n",
      "Batch: 100, Average Loss: 0.0005040828255005181\n",
      "Batch: 150, Average Loss: 0.0004980455851182342\n",
      "Running Epoch 13\n",
      "Batch: 50, Average Loss: 0.00047257301048375666\n",
      "Batch: 100, Average Loss: 0.0005254209972918034\n",
      "Batch: 150, Average Loss: 0.0005517562967725098\n",
      "Running Epoch 14\n",
      "Batch: 50, Average Loss: 0.00041937120840884745\n",
      "Batch: 100, Average Loss: 0.0005092872306704521\n",
      "Batch: 150, Average Loss: 0.0005292616551741958\n",
      "Running Epoch 15\n",
      "Batch: 50, Average Loss: 0.0005332160508260131\n",
      "Batch: 100, Average Loss: 0.000439217546954751\n",
      "Batch: 150, Average Loss: 0.0004499232745729387\n",
      "Running Epoch 16\n",
      "Batch: 50, Average Loss: 0.00044057282502762973\n",
      "Batch: 100, Average Loss: 0.0004945810651406646\n",
      "Batch: 150, Average Loss: 0.0004524681717157364\n",
      "Running Epoch 17\n",
      "Batch: 50, Average Loss: 0.0005316748283803463\n",
      "Batch: 100, Average Loss: 0.0005119677516631782\n",
      "Batch: 150, Average Loss: 0.0003640362119767815\n",
      "Running Epoch 18\n",
      "Batch: 50, Average Loss: 0.0003708954609464854\n",
      "Batch: 100, Average Loss: 0.00047974352492019534\n",
      "Batch: 150, Average Loss: 0.00040815898682922125\n",
      "Running Epoch 19\n",
      "Batch: 50, Average Loss: 0.0004133004695177078\n",
      "Batch: 100, Average Loss: 0.00039884872967377305\n",
      "Batch: 150, Average Loss: 0.0004379982128739357\n",
      "Running Epoch 20\n",
      "Batch: 50, Average Loss: 0.0004966776468791068\n",
      "Batch: 100, Average Loss: 0.00044546593562699854\n",
      "Batch: 150, Average Loss: 0.0002959355479106307\n",
      "Running Epoch 21\n",
      "Batch: 50, Average Loss: 0.0004681333084590733\n",
      "Batch: 100, Average Loss: 0.0004504663229454309\n",
      "Batch: 150, Average Loss: 0.00042650839895941317\n",
      "Running Epoch 22\n",
      "Batch: 50, Average Loss: 0.0004832300473935902\n",
      "Batch: 100, Average Loss: 0.000408581574447453\n",
      "Batch: 150, Average Loss: 0.0004232131177559495\n",
      "Running Epoch 23\n",
      "Batch: 50, Average Loss: 0.0004080478101968765\n",
      "Batch: 100, Average Loss: 0.00045695685548707843\n",
      "Batch: 150, Average Loss: 0.0003734550264198333\n",
      "Running Epoch 24\n",
      "Batch: 50, Average Loss: 0.00041550109745003283\n",
      "Batch: 100, Average Loss: 0.0003339387767482549\n",
      "Batch: 150, Average Loss: 0.0005434335907921195\n",
      "Running Epoch 25\n",
      "Batch: 50, Average Loss: 0.00044694248936139047\n",
      "Batch: 100, Average Loss: 0.00039112207014113665\n",
      "Batch: 150, Average Loss: 0.0003825004387181252\n"
     ]
    }
   ],
   "source": [
    "# Training \n",
    "lr = 0.001\n",
    "epochs = 25\n",
    "loss_function = nn.MSELoss()\n",
    "optimizer = torch.optim.Adam(model.parameters(), lr=lr)\n",
    "\n",
    "model.train(True)\n",
    "for epoch in range(epochs):\n",
    "    print(f\"Running Epoch {epoch+1}\")\n",
    "    running_loss = 0. \n",
    "    for index, batch in enumerate(train_loader):\n",
    "        inp, gt = batch[0].to(device), batch[1].to(device)\n",
    "        pred = model(inp)\n",
    "        loss = loss_function(pred, gt)\n",
    "        running_loss += loss\n",
    "        optimizer.zero_grad()\n",
    "        loss.backward()\n",
    "        optimizer.step()\n",
    "        \n",
    "        if index > 0 and index % 50 == 0:\n",
    "            avg_batch_loss = running_loss / 50.\n",
    "            print(f\"Batch: {index}, Average Loss: {avg_batch_loss}\")\n",
    "            running_loss = 0."
   ]
  },
  {
   "cell_type": "code",
   "execution_count": 80,
   "id": "84f8a8b9-7631-4512-9cb7-aa445ce44322",
   "metadata": {
    "tags": []
   },
   "outputs": [
    {
     "name": "stdout",
     "output_type": "stream",
     "text": [
      "Test Loss: 0.012613922357559204\n"
     ]
    }
   ],
   "source": [
    "# Validation \n",
    "model.train(False)\n",
    "running_loss = 0.\n",
    "\n",
    "for index, batch in enumerate(test_loader):\n",
    "    inp, gt = batch[0].to(device), batch[1].to(device)\n",
    "    with torch.no_grad():\n",
    "        pred = model(inp)\n",
    "        loss = loss_function(pred, gt)\n",
    "        running_loss += loss\n",
    "\n",
    "avg_batch_loss = running_loss / len(test_loader)\n",
    "print(f\"Test Loss: {avg_batch_loss}\")"
   ]
  },
  {
   "cell_type": "code",
   "execution_count": 81,
   "id": "855b0937-d55d-4db7-b79c-1ba81c13d73a",
   "metadata": {
    "tags": []
   },
   "outputs": [
    {
     "data": {
      "image/png": "[encoded data removed]",
      "text/plain": [
       "<Figure size 640x480 with 1 Axes>"
      ]
     },
     "metadata": {},
     "output_type": "display_data"
    }
   ],
   "source": [
    "pred = model(X_train).detach().numpy()\n",
    "plt.plot(y_train.numpy(), label=\"Actual_Close\")\n",
    "plt.plot(pred, label=\"Predicted_Close\")\n",
    "plt.show()"
   ]
  },
  {
   "cell_type": "code",
   "execution_count": 82,
   "id": "0bea2e9f-dfeb-4620-9e71-6674a228774c",
   "metadata": {},
   "outputs": [
    {
     "data": {
      "image/png": "[encoded data removed]",
      "text/plain": [
       "<Figure size 640x480 with 1 Axes>"
      ]
     },
     "metadata": {},
     "output_type": "display_data"
    }
   ],
   "source": [
    "test_predictions = model(X_test.to(device)).detach().cpu().numpy().flatten()\n",
    "\n",
    "dummies = np.zeros((X_test.shape[0], history+1))\n",
    "dummies[:, 0] = test_predictions\n",
    "dummies[:, 1] = y_test.numpy().flatten()\n",
    "dummies = scaler.inverse_transform(dummies)\n",
    "test_predictions = dc(dummies[:, 0])\n",
    "actual = dc(dummies[:, 1])\n",
    "\n",
    "plt.plot(actual, label='Actual Close')\n",
    "plt.plot(test_predictions, label='Predicted Close')\n",
    "plt.xlabel('Day')\n",
    "plt.ylabel('Close')\n",
    "plt.legend()\n",
    "plt.show()"
   ]
  },
  {
   "cell_type": "code",
   "execution_count": null,
   "id": "60d878db-131b-4948-b7eb-7e66eee2a320",
   "metadata": {},
   "outputs": [],
   "source": []
  }
 ],
 "metadata": {
  "kernelspec": {
   "display_name": "Python 3 (ipykernel)",
   "language": "python",
   "name": "python3"
  },
  "language_info": {
   "codemirror_mode": {
    "name": "ipython",
    "version": 3
   },
   "file_extension": ".py",
   "mimetype": "text/x-python",
   "name": "python",
   "nbconvert_exporter": "python",
   "pygments_lexer": "ipython3",
   "version": "3.10.6"
  }
 },
 "nbformat": 4,
 "nbformat_minor": 5
}
